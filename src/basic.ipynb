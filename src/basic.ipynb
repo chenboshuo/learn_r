{
 "cells": [
  {
   "cell_type": "markdown",
   "metadata": {},
   "source": [
    "# basic"
   ]
  },
  {
   "cell_type": "code",
   "execution_count": 26,
   "metadata": {
    "ExecuteTime": {
     "end_time": "2020-09-15T06:53:28.572087Z",
     "start_time": "2020-09-15T06:53:28.541Z"
    }
   },
   "outputs": [
    {
     "data": {
      "text/html": [
       "'numeric'"
      ],
      "text/latex": [
       "'numeric'"
      ],
      "text/markdown": [
       "'numeric'"
      ],
      "text/plain": [
       "[1] \"numeric\""
      ]
     },
     "metadata": {},
     "output_type": "display_data"
    }
   ],
   "source": [
    "mode(12)"
   ]
  },
  {
   "cell_type": "code",
   "execution_count": 27,
   "metadata": {
    "ExecuteTime": {
     "end_time": "2020-09-15T06:53:34.469249Z",
     "start_time": "2020-09-15T06:53:34.433Z"
    }
   },
   "outputs": [
    {
     "data": {
      "text/html": [
       "'numeric'"
      ],
      "text/latex": [
       "'numeric'"
      ],
      "text/markdown": [
       "'numeric'"
      ],
      "text/plain": [
       "[1] \"numeric\""
      ]
     },
     "metadata": {},
     "output_type": "display_data"
    }
   ],
   "source": [
    "mode(c(1:5))"
   ]
  },
  {
   "cell_type": "code",
   "execution_count": 28,
   "metadata": {
    "ExecuteTime": {
     "end_time": "2020-09-15T06:53:47.297593Z",
     "start_time": "2020-09-15T06:53:47.252Z"
    }
   },
   "outputs": [
    {
     "data": {
      "text/html": [
       "1"
      ],
      "text/latex": [
       "1"
      ],
      "text/markdown": [
       "1"
      ],
      "text/plain": [
       "[1] 1"
      ]
     },
     "metadata": {},
     "output_type": "display_data"
    }
   ],
   "source": [
    "length(5)"
   ]
  },
  {
   "cell_type": "code",
   "execution_count": 29,
   "metadata": {
    "ExecuteTime": {
     "end_time": "2020-09-15T06:53:54.456698Z",
     "start_time": "2020-09-15T06:53:54.420Z"
    }
   },
   "outputs": [
    {
     "data": {
      "text/html": [
       "3"
      ],
      "text/latex": [
       "3"
      ],
      "text/markdown": [
       "3"
      ],
      "text/plain": [
       "[1] 3"
      ]
     },
     "metadata": {},
     "output_type": "display_data"
    }
   ],
   "source": [
    "length(c(3:5))"
   ]
  },
  {
   "cell_type": "markdown",
   "metadata": {},
   "source": [
    "## Using mirrors"
   ]
  },
  {
   "cell_type": "code",
   "execution_count": 1,
   "metadata": {
    "ExecuteTime": {
     "end_time": "2020-09-22T06:19:58.116447Z",
     "start_time": "2020-09-22T06:19:58.098Z"
    },
    "scrolled": true
   },
   "outputs": [
    {
     "data": {
      "text/html": [
       "<strong>$repos</strong> = <strong>CRAN:</strong> 'https://cloud.r-project.org'"
      ],
      "text/latex": [
       "\\textbf{\\$repos} = \\textbf{CRAN:} 'https://cloud.r-project.org'"
      ],
      "text/markdown": [
       "**$repos** = **CRAN:** 'https://cloud.r-project.org'"
      ],
      "text/plain": [
       "$repos\n",
       "                         CRAN \n",
       "\"https://cloud.r-project.org\" \n"
      ]
     },
     "metadata": {},
     "output_type": "display_data"
    }
   ],
   "source": [
    "options(\"repos\")"
   ]
  },
  {
   "cell_type": "code",
   "execution_count": 2,
   "metadata": {
    "ExecuteTime": {
     "end_time": "2020-09-22T06:20:20.209179Z",
     "start_time": "2020-09-22T06:20:20.163Z"
    }
   },
   "outputs": [],
   "source": [
    "options(repos=\"https://mirrors.tuna.tsinghua.edu.cn/CRAN/\")"
   ]
  },
  {
   "cell_type": "code",
   "execution_count": 3,
   "metadata": {
    "ExecuteTime": {
     "end_time": "2020-09-22T06:20:28.400203Z",
     "start_time": "2020-09-22T06:20:28.383Z"
    }
   },
   "outputs": [
    {
     "data": {
      "text/html": [
       "<strong>$repos</strong> = 'https://mirrors.tuna.tsinghua.edu.cn/CRAN/'"
      ],
      "text/latex": [
       "\\textbf{\\$repos} = 'https://mirrors.tuna.tsinghua.edu.cn/CRAN/'"
      ],
      "text/markdown": [
       "**$repos** = 'https://mirrors.tuna.tsinghua.edu.cn/CRAN/'"
      ],
      "text/plain": [
       "$repos\n",
       "[1] \"https://mirrors.tuna.tsinghua.edu.cn/CRAN/\"\n"
      ]
     },
     "metadata": {},
     "output_type": "display_data"
    }
   ],
   "source": [
    "options(\"repos\")"
   ]
  },
  {
   "cell_type": "markdown",
   "metadata": {
    "ExecuteTime": {
     "end_time": "2020-09-08T06:32:51.513816Z",
     "start_time": "2020-09-08T06:32:51.499Z"
    }
   },
   "source": [
    "## dataframe"
   ]
  },
  {
   "cell_type": "code",
   "execution_count": 1,
   "metadata": {
    "ExecuteTime": {
     "end_time": "2020-09-15T06:41:02.080941Z",
     "start_time": "2020-09-15T06:41:02.054Z"
    }
   },
   "outputs": [],
   "source": [
    "metallicaNames = c(\"Lars\", \"James\", \"Kirk\", \"Rob\")\n",
    "metallicaAges = c(47,47,48,46)"
   ]
  },
  {
   "cell_type": "code",
   "execution_count": 2,
   "metadata": {
    "ExecuteTime": {
     "end_time": "2020-09-15T06:41:02.582278Z",
     "start_time": "2020-09-15T06:41:02.251Z"
    },
    "scrolled": false
   },
   "outputs": [
    {
     "data": {
      "text/html": [
       "<table>\n",
       "<caption>A data.frame: 4 × 2</caption>\n",
       "<thead>\n",
       "\t<tr><th scope=col>Name</th><th scope=col>Age</th></tr>\n",
       "\t<tr><th scope=col>&lt;fct&gt;</th><th scope=col>&lt;dbl&gt;</th></tr>\n",
       "</thead>\n",
       "<tbody>\n",
       "\t<tr><td>Lars </td><td>47</td></tr>\n",
       "\t<tr><td>James</td><td>47</td></tr>\n",
       "\t<tr><td>Kirk </td><td>48</td></tr>\n",
       "\t<tr><td>Rob  </td><td>46</td></tr>\n",
       "</tbody>\n",
       "</table>\n"
      ],
      "text/latex": [
       "A data.frame: 4 × 2\n",
       "\\begin{tabular}{ll}\n",
       " Name & Age\\\\\n",
       " <fct> & <dbl>\\\\\n",
       "\\hline\n",
       "\t Lars  & 47\\\\\n",
       "\t James & 47\\\\\n",
       "\t Kirk  & 48\\\\\n",
       "\t Rob   & 46\\\\\n",
       "\\end{tabular}\n"
      ],
      "text/markdown": [
       "\n",
       "A data.frame: 4 × 2\n",
       "\n",
       "| Name &lt;fct&gt; | Age &lt;dbl&gt; |\n",
       "|---|---|\n",
       "| Lars  | 47 |\n",
       "| James | 47 |\n",
       "| Kirk  | 48 |\n",
       "| Rob   | 46 |\n",
       "\n"
      ],
      "text/plain": [
       "  Name  Age\n",
       "1 Lars  47 \n",
       "2 James 47 \n",
       "3 Kirk  48 \n",
       "4 Rob   46 "
      ]
     },
     "metadata": {},
     "output_type": "display_data"
    }
   ],
   "source": [
    "metallica <- data.frame(Name = metallicaNames, Age=metallicaAges)\n",
    "metallica"
   ]
  },
  {
   "cell_type": "code",
   "execution_count": 3,
   "metadata": {
    "ExecuteTime": {
     "end_time": "2020-09-15T06:41:02.636301Z",
     "start_time": "2020-09-15T06:41:02.503Z"
    },
    "scrolled": false
   },
   "outputs": [
    {
     "data": {
      "text/html": [
       "<style>\n",
       ".list-inline {list-style: none; margin:0; padding: 0}\n",
       ".list-inline>li {display: inline-block}\n",
       ".list-inline>li:not(:last-child)::after {content: \"\\00b7\"; padding: 0 .5ex}\n",
       "</style>\n",
       "<ol class=list-inline><li>47</li><li>47</li><li>48</li><li>46</li></ol>\n"
      ],
      "text/latex": [
       "\\begin{enumerate*}\n",
       "\\item 47\n",
       "\\item 47\n",
       "\\item 48\n",
       "\\item 46\n",
       "\\end{enumerate*}\n"
      ],
      "text/markdown": [
       "1. 47\n",
       "2. 47\n",
       "3. 48\n",
       "4. 46\n",
       "\n",
       "\n"
      ],
      "text/plain": [
       "[1] 47 47 48 46"
      ]
     },
     "metadata": {},
     "output_type": "display_data"
    }
   ],
   "source": [
    "metallica$Age"
   ]
  },
  {
   "cell_type": "code",
   "execution_count": 4,
   "metadata": {
    "ExecuteTime": {
     "end_time": "2020-09-15T06:41:02.843446Z",
     "start_time": "2020-09-15T06:41:02.778Z"
    },
    "scrolled": true
   },
   "outputs": [
    {
     "data": {
      "text/html": [
       "<table>\n",
       "<caption>A data.frame: 4 × 3</caption>\n",
       "<thead>\n",
       "\t<tr><th scope=col>Name</th><th scope=col>Age</th><th scope=col>childAge</th></tr>\n",
       "\t<tr><th scope=col>&lt;fct&gt;</th><th scope=col>&lt;dbl&gt;</th><th scope=col>&lt;dbl&gt;</th></tr>\n",
       "</thead>\n",
       "<tbody>\n",
       "\t<tr><td>Lars </td><td>47</td><td>12</td></tr>\n",
       "\t<tr><td>James</td><td>47</td><td>12</td></tr>\n",
       "\t<tr><td>Kirk </td><td>48</td><td> 4</td></tr>\n",
       "\t<tr><td>Rob  </td><td>46</td><td> 6</td></tr>\n",
       "</tbody>\n",
       "</table>\n"
      ],
      "text/latex": [
       "A data.frame: 4 × 3\n",
       "\\begin{tabular}{lll}\n",
       " Name & Age & childAge\\\\\n",
       " <fct> & <dbl> & <dbl>\\\\\n",
       "\\hline\n",
       "\t Lars  & 47 & 12\\\\\n",
       "\t James & 47 & 12\\\\\n",
       "\t Kirk  & 48 &  4\\\\\n",
       "\t Rob   & 46 &  6\\\\\n",
       "\\end{tabular}\n"
      ],
      "text/markdown": [
       "\n",
       "A data.frame: 4 × 3\n",
       "\n",
       "| Name &lt;fct&gt; | Age &lt;dbl&gt; | childAge &lt;dbl&gt; |\n",
       "|---|---|---|\n",
       "| Lars  | 47 | 12 |\n",
       "| James | 47 | 12 |\n",
       "| Kirk  | 48 |  4 |\n",
       "| Rob   | 46 |  6 |\n",
       "\n"
      ],
      "text/plain": [
       "  Name  Age childAge\n",
       "1 Lars  47  12      \n",
       "2 James 47  12      \n",
       "3 Kirk  48   4      \n",
       "4 Rob   46   6      "
      ]
     },
     "metadata": {},
     "output_type": "display_data"
    }
   ],
   "source": [
    "metallica$childAge = c(12,12,4,6)\n",
    "metallica"
   ]
  },
  {
   "cell_type": "code",
   "execution_count": 5,
   "metadata": {
    "ExecuteTime": {
     "end_time": "2020-09-15T06:41:03.040754Z",
     "start_time": "2020-09-15T06:41:03.013Z"
    }
   },
   "outputs": [
    {
     "data": {
      "text/html": [
       "<style>\n",
       ".list-inline {list-style: none; margin:0; padding: 0}\n",
       ".list-inline>li {display: inline-block}\n",
       ".list-inline>li:not(:last-child)::after {content: \"\\00b7\"; padding: 0 .5ex}\n",
       "</style>\n",
       "<ol class=list-inline><li>'Name'</li><li>'Age'</li><li>'childAge'</li></ol>\n"
      ],
      "text/latex": [
       "\\begin{enumerate*}\n",
       "\\item 'Name'\n",
       "\\item 'Age'\n",
       "\\item 'childAge'\n",
       "\\end{enumerate*}\n"
      ],
      "text/markdown": [
       "1. 'Name'\n",
       "2. 'Age'\n",
       "3. 'childAge'\n",
       "\n",
       "\n"
      ],
      "text/plain": [
       "[1] \"Name\"     \"Age\"      \"childAge\""
      ]
     },
     "metadata": {},
     "output_type": "display_data"
    }
   ],
   "source": [
    "names(metallica)"
   ]
  },
  {
   "cell_type": "markdown",
   "metadata": {},
   "source": [
    "## matrix"
   ]
  },
  {
   "cell_type": "code",
   "execution_count": null,
   "metadata": {},
   "outputs": [],
   "source": []
  },
  {
   "cell_type": "code",
   "execution_count": 1,
   "metadata": {
    "ExecuteTime": {
     "end_time": "2020-09-29T06:41:15.486844Z",
     "start_time": "2020-09-29T06:41:15.277Z"
    },
    "scrolled": true
   },
   "outputs": [
    {
     "data": {
      "text/html": [
       "<table>\n",
       "<caption>A matrix: 2 × 5 of type dbl</caption>\n",
       "<tbody>\n",
       "\t<tr><td>0</td><td>0</td><td>0</td><td>0</td><td>0</td></tr>\n",
       "\t<tr><td>0</td><td>0</td><td>0</td><td>0</td><td>0</td></tr>\n",
       "</tbody>\n",
       "</table>\n"
      ],
      "text/latex": [
       "A matrix: 2 × 5 of type dbl\n",
       "\\begin{tabular}{lllll}\n",
       "\t 0 & 0 & 0 & 0 & 0\\\\\n",
       "\t 0 & 0 & 0 & 0 & 0\\\\\n",
       "\\end{tabular}\n"
      ],
      "text/markdown": [
       "\n",
       "A matrix: 2 × 5 of type dbl\n",
       "\n",
       "| 0 | 0 | 0 | 0 | 0 |\n",
       "| 0 | 0 | 0 | 0 | 0 |\n",
       "\n"
      ],
      "text/plain": [
       "     [,1] [,2] [,3] [,4] [,5]\n",
       "[1,] 0    0    0    0    0   \n",
       "[2,] 0    0    0    0    0   "
      ]
     },
     "metadata": {},
     "output_type": "display_data"
    }
   ],
   "source": [
    "matrix(0,2,5)"
   ]
  },
  {
   "cell_type": "code",
   "execution_count": 9,
   "metadata": {
    "ExecuteTime": {
     "end_time": "2020-09-29T06:43:38.737060Z",
     "start_time": "2020-09-29T06:43:38.719Z"
    }
   },
   "outputs": [
    {
     "data": {
      "text/html": [
       "<table>\n",
       "<caption>A matrix: 2 × 3 of type int</caption>\n",
       "<tbody>\n",
       "\t<tr><td>1</td><td>3</td><td>5</td></tr>\n",
       "\t<tr><td>2</td><td>4</td><td>6</td></tr>\n",
       "</tbody>\n",
       "</table>\n"
      ],
      "text/latex": [
       "A matrix: 2 × 3 of type int\n",
       "\\begin{tabular}{lll}\n",
       "\t 1 & 3 & 5\\\\\n",
       "\t 2 & 4 & 6\\\\\n",
       "\\end{tabular}\n"
      ],
      "text/markdown": [
       "\n",
       "A matrix: 2 × 3 of type int\n",
       "\n",
       "| 1 | 3 | 5 |\n",
       "| 2 | 4 | 6 |\n",
       "\n"
      ],
      "text/plain": [
       "     [,1] [,2] [,3]\n",
       "[1,] 1    3    5   \n",
       "[2,] 2    4    6   "
      ]
     },
     "metadata": {},
     "output_type": "display_data"
    }
   ],
   "source": [
    "matrix(1:6, nrow=2, ncol=3, byrow=F)"
   ]
  },
  {
   "cell_type": "code",
   "execution_count": 2,
   "metadata": {
    "ExecuteTime": {
     "end_time": "2020-09-29T06:41:17.544240Z",
     "start_time": "2020-09-29T06:41:17.482Z"
    }
   },
   "outputs": [
    {
     "data": {
      "text/html": [
       "<table>\n",
       "<caption>A matrix: 4 × 3 of type int</caption>\n",
       "<tbody>\n",
       "\t<tr><td> 3</td><td> 4</td><td> 5</td></tr>\n",
       "\t<tr><td> 6</td><td> 7</td><td> 8</td></tr>\n",
       "\t<tr><td> 9</td><td>10</td><td>11</td></tr>\n",
       "\t<tr><td>12</td><td>13</td><td>14</td></tr>\n",
       "</tbody>\n",
       "</table>\n"
      ],
      "text/latex": [
       "A matrix: 4 × 3 of type int\n",
       "\\begin{tabular}{lll}\n",
       "\t  3 &  4 &  5\\\\\n",
       "\t  6 &  7 &  8\\\\\n",
       "\t  9 & 10 & 11\\\\\n",
       "\t 12 & 13 & 14\\\\\n",
       "\\end{tabular}\n"
      ],
      "text/markdown": [
       "\n",
       "A matrix: 4 × 3 of type int\n",
       "\n",
       "|  3 |  4 |  5 |\n",
       "|  6 |  7 |  8 |\n",
       "|  9 | 10 | 11 |\n",
       "| 12 | 13 | 14 |\n",
       "\n"
      ],
      "text/plain": [
       "     [,1] [,2] [,3]\n",
       "[1,]  3    4    5  \n",
       "[2,]  6    7    8  \n",
       "[3,]  9   10   11  \n",
       "[4,] 12   13   14  "
      ]
     },
     "metadata": {},
     "output_type": "display_data"
    }
   ],
   "source": [
    "m = matrix(c(3:14), nrow=4, byrow=TRUE)\n",
    "m"
   ]
  },
  {
   "cell_type": "code",
   "execution_count": 5,
   "metadata": {
    "ExecuteTime": {
     "end_time": "2020-09-29T06:41:57.371588Z",
     "start_time": "2020-09-29T06:41:57.338Z"
    }
   },
   "outputs": [
    {
     "data": {
      "text/html": [
       "<table>\n",
       "<caption>A matrix: 4 × 3 of type int</caption>\n",
       "<thead>\n",
       "\t<tr><th></th><th scope=col>col1</th><th scope=col>col2</th><th scope=col>col3</th></tr>\n",
       "</thead>\n",
       "<tbody>\n",
       "\t<tr><th scope=row>row1</th><td> 3</td><td> 4</td><td> 5</td></tr>\n",
       "\t<tr><th scope=row>row2</th><td> 6</td><td> 7</td><td> 8</td></tr>\n",
       "\t<tr><th scope=row>row3</th><td> 9</td><td>10</td><td>11</td></tr>\n",
       "\t<tr><th scope=row>row4</th><td>12</td><td>13</td><td>14</td></tr>\n",
       "</tbody>\n",
       "</table>\n"
      ],
      "text/latex": [
       "A matrix: 4 × 3 of type int\n",
       "\\begin{tabular}{r|lll}\n",
       "  & col1 & col2 & col3\\\\\n",
       "\\hline\n",
       "\trow1 &  3 &  4 &  5\\\\\n",
       "\trow2 &  6 &  7 &  8\\\\\n",
       "\trow3 &  9 & 10 & 11\\\\\n",
       "\trow4 & 12 & 13 & 14\\\\\n",
       "\\end{tabular}\n"
      ],
      "text/markdown": [
       "\n",
       "A matrix: 4 × 3 of type int\n",
       "\n",
       "| <!--/--> | col1 | col2 | col3 |\n",
       "|---|---|---|---|\n",
       "| row1 |  3 |  4 |  5 |\n",
       "| row2 |  6 |  7 |  8 |\n",
       "| row3 |  9 | 10 | 11 |\n",
       "| row4 | 12 | 13 | 14 |\n",
       "\n"
      ],
      "text/plain": [
       "     col1 col2 col3\n",
       "row1  3    4    5  \n",
       "row2  6    7    8  \n",
       "row3  9   10   11  \n",
       "row4 12   13   14  "
      ]
     },
     "metadata": {},
     "output_type": "display_data"
    }
   ],
   "source": [
    "rownames(m) = c('row1','row2','row3','row4')\n",
    "colnames(m) = c('col1', 'col2', 'col3')\n",
    "m"
   ]
  },
  {
   "cell_type": "code",
   "execution_count": null,
   "metadata": {},
   "outputs": [],
   "source": []
  },
  {
   "cell_type": "code",
   "execution_count": 7,
   "metadata": {
    "ExecuteTime": {
     "end_time": "2020-09-29T06:42:17.810182Z",
     "start_time": "2020-09-29T06:42:17.783Z"
    }
   },
   "outputs": [
    {
     "data": {
      "text/html": [
       "<style>\n",
       ".list-inline {list-style: none; margin:0; padding: 0}\n",
       ".list-inline>li {display: inline-block}\n",
       ".list-inline>li:not(:last-child)::after {content: \"\\00b7\"; padding: 0 .5ex}\n",
       "</style>\n",
       "<ol class=list-inline><li>3</li><li>7</li><li>11</li></ol>\n"
      ],
      "text/latex": [
       "\\begin{enumerate*}\n",
       "\\item 3\n",
       "\\item 7\n",
       "\\item 11\n",
       "\\end{enumerate*}\n"
      ],
      "text/markdown": [
       "1. 3\n",
       "2. 7\n",
       "3. 11\n",
       "\n",
       "\n"
      ],
      "text/plain": [
       "[1]  3  7 11"
      ]
     },
     "metadata": {},
     "output_type": "display_data"
    }
   ],
   "source": [
    "diag(m)"
   ]
  },
  {
   "cell_type": "code",
   "execution_count": 6,
   "metadata": {
    "ExecuteTime": {
     "end_time": "2020-09-29T06:42:05.312687Z",
     "start_time": "2020-09-29T06:42:05.276Z"
    }
   },
   "outputs": [
    {
     "data": {
      "text/html": [
       "<table>\n",
       "<caption>A matrix: 3 × 4 of type int</caption>\n",
       "<thead>\n",
       "\t<tr><th></th><th scope=col>row1</th><th scope=col>row2</th><th scope=col>row3</th><th scope=col>row4</th></tr>\n",
       "</thead>\n",
       "<tbody>\n",
       "\t<tr><th scope=row>col1</th><td>3</td><td>6</td><td> 9</td><td>12</td></tr>\n",
       "\t<tr><th scope=row>col2</th><td>4</td><td>7</td><td>10</td><td>13</td></tr>\n",
       "\t<tr><th scope=row>col3</th><td>5</td><td>8</td><td>11</td><td>14</td></tr>\n",
       "</tbody>\n",
       "</table>\n"
      ],
      "text/latex": [
       "A matrix: 3 × 4 of type int\n",
       "\\begin{tabular}{r|llll}\n",
       "  & row1 & row2 & row3 & row4\\\\\n",
       "\\hline\n",
       "\tcol1 & 3 & 6 &  9 & 12\\\\\n",
       "\tcol2 & 4 & 7 & 10 & 13\\\\\n",
       "\tcol3 & 5 & 8 & 11 & 14\\\\\n",
       "\\end{tabular}\n"
      ],
      "text/markdown": [
       "\n",
       "A matrix: 3 × 4 of type int\n",
       "\n",
       "| <!--/--> | row1 | row2 | row3 | row4 |\n",
       "|---|---|---|---|---|\n",
       "| col1 | 3 | 6 |  9 | 12 |\n",
       "| col2 | 4 | 7 | 10 | 13 |\n",
       "| col3 | 5 | 8 | 11 | 14 |\n",
       "\n"
      ],
      "text/plain": [
       "     row1 row2 row3 row4\n",
       "col1 3    6     9   12  \n",
       "col2 4    7    10   13  \n",
       "col3 5    8    11   14  "
      ]
     },
     "metadata": {},
     "output_type": "display_data"
    }
   ],
   "source": [
    "t(m)"
   ]
  },
  {
   "cell_type": "code",
   "execution_count": 14,
   "metadata": {
    "ExecuteTime": {
     "end_time": "2020-09-29T06:47:12.289800Z",
     "start_time": "2020-09-29T06:47:12.173Z"
    }
   },
   "outputs": [
    {
     "data": {
      "text/html": [
       "-2"
      ],
      "text/latex": [
       "-2"
      ],
      "text/markdown": [
       "-2"
      ],
      "text/plain": [
       "[1] -2"
      ]
     },
     "metadata": {},
     "output_type": "display_data"
    }
   ],
   "source": [
    "det(matrix(c(1:4),nrow=2,ncol = 2))"
   ]
  },
  {
   "cell_type": "code",
   "execution_count": 12,
   "metadata": {
    "ExecuteTime": {
     "end_time": "2020-09-29T06:45:46.913290Z",
     "start_time": "2020-09-29T06:45:46.894Z"
    }
   },
   "outputs": [
    {
     "data": {
      "text/html": [
       "<table>\n",
       "<caption>A matrix: 4 × 3 of type int</caption>\n",
       "<thead>\n",
       "\t<tr><th></th><th scope=col>col1</th><th scope=col>col2</th><th scope=col>col3</th></tr>\n",
       "</thead>\n",
       "<tbody>\n",
       "\t<tr><th scope=row>row1</th><td>  9</td><td> 16</td><td> 25</td></tr>\n",
       "\t<tr><th scope=row>row2</th><td> 36</td><td> 49</td><td> 64</td></tr>\n",
       "\t<tr><th scope=row>row3</th><td> 81</td><td>100</td><td>121</td></tr>\n",
       "\t<tr><th scope=row>row4</th><td>144</td><td>169</td><td>196</td></tr>\n",
       "</tbody>\n",
       "</table>\n"
      ],
      "text/latex": [
       "A matrix: 4 × 3 of type int\n",
       "\\begin{tabular}{r|lll}\n",
       "  & col1 & col2 & col3\\\\\n",
       "\\hline\n",
       "\trow1 &   9 &  16 &  25\\\\\n",
       "\trow2 &  36 &  49 &  64\\\\\n",
       "\trow3 &  81 & 100 & 121\\\\\n",
       "\trow4 & 144 & 169 & 196\\\\\n",
       "\\end{tabular}\n"
      ],
      "text/markdown": [
       "\n",
       "A matrix: 4 × 3 of type int\n",
       "\n",
       "| <!--/--> | col1 | col2 | col3 |\n",
       "|---|---|---|---|\n",
       "| row1 |   9 |  16 |  25 |\n",
       "| row2 |  36 |  49 |  64 |\n",
       "| row3 |  81 | 100 | 121 |\n",
       "| row4 | 144 | 169 | 196 |\n",
       "\n"
      ],
      "text/plain": [
       "     col1 col2 col3\n",
       "row1   9   16   25 \n",
       "row2  36   49   64 \n",
       "row3  81  100  121 \n",
       "row4 144  169  196 "
      ]
     },
     "metadata": {},
     "output_type": "display_data"
    }
   ],
   "source": [
    "m*m"
   ]
  },
  {
   "cell_type": "code",
   "execution_count": 11,
   "metadata": {
    "ExecuteTime": {
     "end_time": "2020-09-29T06:45:27.875123Z",
     "start_time": "2020-09-29T06:45:27.855Z"
    }
   },
   "outputs": [
    {
     "data": {
      "text/html": [
       "<table>\n",
       "<caption>A matrix: 4 × 4 of type dbl</caption>\n",
       "<thead>\n",
       "\t<tr><th></th><th scope=col>row1</th><th scope=col>row2</th><th scope=col>row3</th><th scope=col>row4</th></tr>\n",
       "</thead>\n",
       "<tbody>\n",
       "\t<tr><th scope=row>row1</th><td> 50</td><td> 86</td><td>122</td><td>158</td></tr>\n",
       "\t<tr><th scope=row>row2</th><td> 86</td><td>149</td><td>212</td><td>275</td></tr>\n",
       "\t<tr><th scope=row>row3</th><td>122</td><td>212</td><td>302</td><td>392</td></tr>\n",
       "\t<tr><th scope=row>row4</th><td>158</td><td>275</td><td>392</td><td>509</td></tr>\n",
       "</tbody>\n",
       "</table>\n"
      ],
      "text/latex": [
       "A matrix: 4 × 4 of type dbl\n",
       "\\begin{tabular}{r|llll}\n",
       "  & row1 & row2 & row3 & row4\\\\\n",
       "\\hline\n",
       "\trow1 &  50 &  86 & 122 & 158\\\\\n",
       "\trow2 &  86 & 149 & 212 & 275\\\\\n",
       "\trow3 & 122 & 212 & 302 & 392\\\\\n",
       "\trow4 & 158 & 275 & 392 & 509\\\\\n",
       "\\end{tabular}\n"
      ],
      "text/markdown": [
       "\n",
       "A matrix: 4 × 4 of type dbl\n",
       "\n",
       "| <!--/--> | row1 | row2 | row3 | row4 |\n",
       "|---|---|---|---|---|\n",
       "| row1 |  50 |  86 | 122 | 158 |\n",
       "| row2 |  86 | 149 | 212 | 275 |\n",
       "| row3 | 122 | 212 | 302 | 392 |\n",
       "| row4 | 158 | 275 | 392 | 509 |\n",
       "\n"
      ],
      "text/plain": [
       "     row1 row2 row3 row4\n",
       "row1  50   86  122  158 \n",
       "row2  86  149  212  275 \n",
       "row3 122  212  302  392 \n",
       "row4 158  275  392  509 "
      ]
     },
     "metadata": {},
     "output_type": "display_data"
    }
   ],
   "source": [
    "m%*%t(m)"
   ]
  },
  {
   "cell_type": "markdown",
   "metadata": {},
   "source": [
    "## DataFrame "
   ]
  },
  {
   "cell_type": "code",
   "execution_count": 22,
   "metadata": {
    "ExecuteTime": {
     "end_time": "2020-09-29T06:53:35.624604Z",
     "start_time": "2020-09-29T06:53:35.599Z"
    }
   },
   "outputs": [
    {
     "data": {
      "text/html": [
       "<table>\n",
       "<caption>A data.frame: 4 × 2</caption>\n",
       "<thead>\n",
       "\t<tr><th scope=col>index</th><th scope=col>value</th></tr>\n",
       "\t<tr><th scope=col>&lt;int&gt;</th><th scope=col>&lt;dbl&gt;</th></tr>\n",
       "</thead>\n",
       "<tbody>\n",
       "\t<tr><td>1</td><td>42</td></tr>\n",
       "\t<tr><td>2</td><td> 7</td></tr>\n",
       "\t<tr><td>3</td><td>64</td></tr>\n",
       "\t<tr><td>4</td><td> 9</td></tr>\n",
       "</tbody>\n",
       "</table>\n"
      ],
      "text/latex": [
       "A data.frame: 4 × 2\n",
       "\\begin{tabular}{ll}\n",
       " index & value\\\\\n",
       " <int> & <dbl>\\\\\n",
       "\\hline\n",
       "\t 1 & 42\\\\\n",
       "\t 2 &  7\\\\\n",
       "\t 3 & 64\\\\\n",
       "\t 4 &  9\\\\\n",
       "\\end{tabular}\n"
      ],
      "text/markdown": [
       "\n",
       "A data.frame: 4 × 2\n",
       "\n",
       "| index &lt;int&gt; | value &lt;dbl&gt; |\n",
       "|---|---|\n",
       "| 1 | 42 |\n",
       "| 2 |  7 |\n",
       "| 3 | 64 |\n",
       "| 4 |  9 |\n",
       "\n"
      ],
      "text/plain": [
       "  index value\n",
       "1 1     42   \n",
       "2 2      7   \n",
       "3 3     64   \n",
       "4 4      9   "
      ]
     },
     "metadata": {},
     "output_type": "display_data"
    }
   ],
   "source": [
    "x = c(42, 7, 64,9)\n",
    "y = 1:4\n",
    "z.df = data.frame(index=y,value=x)\n",
    "z.df"
   ]
  },
  {
   "cell_type": "code",
   "execution_count": null,
   "metadata": {},
   "outputs": [],
   "source": []
  },
  {
   "cell_type": "code",
   "execution_count": 23,
   "metadata": {
    "ExecuteTime": {
     "end_time": "2020-09-29T06:53:36.640141Z",
     "start_time": "2020-09-29T06:53:36.620Z"
    }
   },
   "outputs": [
    {
     "data": {
      "text/html": [
       "<table>\n",
       "<caption>A data.frame: 4 × 2</caption>\n",
       "<thead>\n",
       "\t<tr><th scope=col>index</th><th scope=col>value</th></tr>\n",
       "\t<tr><th scope=col>&lt;int&gt;</th><th scope=col>&lt;dbl&gt;</th></tr>\n",
       "</thead>\n",
       "<tbody>\n",
       "\t<tr><td>1</td><td> 5</td></tr>\n",
       "\t<tr><td>2</td><td> 7</td></tr>\n",
       "\t<tr><td>3</td><td>64</td></tr>\n",
       "\t<tr><td>4</td><td> 9</td></tr>\n",
       "</tbody>\n",
       "</table>\n"
      ],
      "text/latex": [
       "A data.frame: 4 × 2\n",
       "\\begin{tabular}{ll}\n",
       " index & value\\\\\n",
       " <int> & <dbl>\\\\\n",
       "\\hline\n",
       "\t 1 &  5\\\\\n",
       "\t 2 &  7\\\\\n",
       "\t 3 & 64\\\\\n",
       "\t 4 &  9\\\\\n",
       "\\end{tabular}\n"
      ],
      "text/markdown": [
       "\n",
       "A data.frame: 4 × 2\n",
       "\n",
       "| index &lt;int&gt; | value &lt;dbl&gt; |\n",
       "|---|---|\n",
       "| 1 |  5 |\n",
       "| 2 |  7 |\n",
       "| 3 | 64 |\n",
       "| 4 |  9 |\n",
       "\n"
      ],
      "text/plain": [
       "  index value\n",
       "1 1      5   \n",
       "2 2      7   \n",
       "3 3     64   \n",
       "4 4      9   "
      ]
     },
     "metadata": {},
     "output_type": "display_data"
    }
   ],
   "source": [
    "z.df[1,2] = 5\n",
    "z.df"
   ]
  },
  {
   "cell_type": "code",
   "execution_count": 25,
   "metadata": {
    "ExecuteTime": {
     "end_time": "2020-09-29T06:53:54.472394Z",
     "start_time": "2020-09-29T06:53:54.445Z"
    }
   },
   "outputs": [
    {
     "data": {
      "text/html": [
       "<table>\n",
       "<caption>A data.frame: 4 × 3</caption>\n",
       "<thead>\n",
       "\t<tr><th scope=col>index</th><th scope=col>value</th><th scope=col>col3</th></tr>\n",
       "\t<tr><th scope=col>&lt;int&gt;</th><th scope=col>&lt;dbl&gt;</th><th scope=col>&lt;dbl&gt;</th></tr>\n",
       "</thead>\n",
       "<tbody>\n",
       "\t<tr><td>1</td><td> 5</td><td>4</td></tr>\n",
       "\t<tr><td>2</td><td> 7</td><td>5</td></tr>\n",
       "\t<tr><td>3</td><td>64</td><td>6</td></tr>\n",
       "\t<tr><td>4</td><td> 9</td><td>7</td></tr>\n",
       "</tbody>\n",
       "</table>\n"
      ],
      "text/latex": [
       "A data.frame: 4 × 3\n",
       "\\begin{tabular}{lll}\n",
       " index & value & col3\\\\\n",
       " <int> & <dbl> & <dbl>\\\\\n",
       "\\hline\n",
       "\t 1 &  5 & 4\\\\\n",
       "\t 2 &  7 & 5\\\\\n",
       "\t 3 & 64 & 6\\\\\n",
       "\t 4 &  9 & 7\\\\\n",
       "\\end{tabular}\n"
      ],
      "text/markdown": [
       "\n",
       "A data.frame: 4 × 3\n",
       "\n",
       "| index &lt;int&gt; | value &lt;dbl&gt; | col3 &lt;dbl&gt; |\n",
       "|---|---|---|\n",
       "| 1 |  5 | 4 |\n",
       "| 2 |  7 | 5 |\n",
       "| 3 | 64 | 6 |\n",
       "| 4 |  9 | 7 |\n",
       "\n"
      ],
      "text/plain": [
       "  index value col3\n",
       "1 1      5    4   \n",
       "2 2      7    5   \n",
       "3 3     64    6   \n",
       "4 4      9    7   "
      ]
     },
     "metadata": {},
     "output_type": "display_data"
    }
   ],
   "source": [
    "z.df$col3 = z.df$index + 3\n",
    "z.df"
   ]
  },
  {
   "cell_type": "code",
   "execution_count": 26,
   "metadata": {
    "ExecuteTime": {
     "end_time": "2020-09-29T06:54:42.783753Z",
     "start_time": "2020-09-29T06:54:42.755Z"
    }
   },
   "outputs": [
    {
     "data": {
      "text/html": [
       "<table>\n",
       "<caption>A data.frame: 5 × 3</caption>\n",
       "<thead>\n",
       "\t<tr><th scope=col>index</th><th scope=col>value</th><th scope=col>col3</th></tr>\n",
       "\t<tr><th scope=col>&lt;dbl&gt;</th><th scope=col>&lt;dbl&gt;</th><th scope=col>&lt;dbl&gt;</th></tr>\n",
       "</thead>\n",
       "<tbody>\n",
       "\t<tr><td>1</td><td> 5</td><td>4</td></tr>\n",
       "\t<tr><td>2</td><td> 7</td><td>5</td></tr>\n",
       "\t<tr><td>3</td><td>64</td><td>6</td></tr>\n",
       "\t<tr><td>4</td><td> 9</td><td>7</td></tr>\n",
       "\t<tr><td>1</td><td> 2</td><td>3</td></tr>\n",
       "</tbody>\n",
       "</table>\n"
      ],
      "text/latex": [
       "A data.frame: 5 × 3\n",
       "\\begin{tabular}{lll}\n",
       " index & value & col3\\\\\n",
       " <dbl> & <dbl> & <dbl>\\\\\n",
       "\\hline\n",
       "\t 1 &  5 & 4\\\\\n",
       "\t 2 &  7 & 5\\\\\n",
       "\t 3 & 64 & 6\\\\\n",
       "\t 4 &  9 & 7\\\\\n",
       "\t 1 &  2 & 3\\\\\n",
       "\\end{tabular}\n"
      ],
      "text/markdown": [
       "\n",
       "A data.frame: 5 × 3\n",
       "\n",
       "| index &lt;dbl&gt; | value &lt;dbl&gt; | col3 &lt;dbl&gt; |\n",
       "|---|---|---|\n",
       "| 1 |  5 | 4 |\n",
       "| 2 |  7 | 5 |\n",
       "| 3 | 64 | 6 |\n",
       "| 4 |  9 | 7 |\n",
       "| 1 |  2 | 3 |\n",
       "\n"
      ],
      "text/plain": [
       "  index value col3\n",
       "1 1      5    4   \n",
       "2 2      7    5   \n",
       "3 3     64    6   \n",
       "4 4      9    7   \n",
       "5 1      2    3   "
      ]
     },
     "metadata": {},
     "output_type": "display_data"
    }
   ],
   "source": [
    "new_row = c(1,2,3)\n",
    "rbind(z.df,new_row)"
   ]
  },
  {
   "cell_type": "markdown",
   "metadata": {},
   "source": [
    "## path"
   ]
  },
  {
   "cell_type": "code",
   "execution_count": 31,
   "metadata": {
    "ExecuteTime": {
     "end_time": "2020-09-08T06:52:20.723258Z",
     "start_time": "2020-09-08T06:52:20.705Z"
    }
   },
   "outputs": [
    {
     "data": {
      "text/html": [
       "'/home/cbs/Documents/code/learn_r/src'"
      ],
      "text/latex": [
       "'/home/cbs/Documents/code/learn\\_r/src'"
      ],
      "text/markdown": [
       "'/home/cbs/Documents/code/learn_r/src'"
      ],
      "text/plain": [
       "[1] \"/home/cbs/Documents/code/learn_r/src\""
      ]
     },
     "metadata": {},
     "output_type": "display_data"
    }
   ],
   "source": [
    "getwd()"
   ]
  },
  {
   "cell_type": "markdown",
   "metadata": {},
   "source": [
    "## vector "
   ]
  },
  {
   "cell_type": "code",
   "execution_count": 31,
   "metadata": {
    "ExecuteTime": {
     "end_time": "2020-09-15T07:15:10.876709Z",
     "start_time": "2020-09-15T07:15:10.841Z"
    }
   },
   "outputs": [
    {
     "data": {
      "text/html": [
       "<style>\n",
       ".list-inline {list-style: none; margin:0; padding: 0}\n",
       ".list-inline>li {display: inline-block}\n",
       ".list-inline>li:not(:last-child)::after {content: \"\\00b7\"; padding: 0 .5ex}\n",
       "</style>\n",
       "<ol class=list-inline><li>1</li><li>3</li><li>5</li><li>7</li><li>9</li></ol>\n"
      ],
      "text/latex": [
       "\\begin{enumerate*}\n",
       "\\item 1\n",
       "\\item 3\n",
       "\\item 5\n",
       "\\item 7\n",
       "\\item 9\n",
       "\\end{enumerate*}\n"
      ],
      "text/markdown": [
       "1. 1\n",
       "2. 3\n",
       "3. 5\n",
       "4. 7\n",
       "5. 9\n",
       "\n",
       "\n"
      ],
      "text/plain": [
       "[1] 1 3 5 7 9"
      ]
     },
     "metadata": {},
     "output_type": "display_data"
    }
   ],
   "source": [
    "vector1 = c(1,3,5,7,9)\n",
    "vector1"
   ]
  },
  {
   "cell_type": "code",
   "execution_count": 33,
   "metadata": {
    "ExecuteTime": {
     "end_time": "2020-09-15T07:15:32.271035Z",
     "start_time": "2020-09-15T07:15:32.241Z"
    }
   },
   "outputs": [
    {
     "data": {
      "text/html": [
       "<style>\n",
       ".list-inline {list-style: none; margin:0; padding: 0}\n",
       ".list-inline>li {display: inline-block}\n",
       ".list-inline>li:not(:last-child)::after {content: \"\\00b7\"; padding: 0 .5ex}\n",
       "</style>\n",
       "<ol class=list-inline><li>1</li><li>1</li><li>1</li><li>1</li><li>1</li></ol>\n"
      ],
      "text/latex": [
       "\\begin{enumerate*}\n",
       "\\item 1\n",
       "\\item 1\n",
       "\\item 1\n",
       "\\item 1\n",
       "\\item 1\n",
       "\\end{enumerate*}\n"
      ],
      "text/markdown": [
       "1. 1\n",
       "2. 1\n",
       "3. 1\n",
       "4. 1\n",
       "5. 1\n",
       "\n",
       "\n"
      ],
      "text/plain": [
       "[1] 1 1 1 1 1"
      ]
     },
     "metadata": {},
     "output_type": "display_data"
    }
   ],
   "source": [
    "vector2 = rep(1,5)\n",
    "vector2"
   ]
  },
  {
   "cell_type": "code",
   "execution_count": 34,
   "metadata": {
    "ExecuteTime": {
     "end_time": "2020-09-15T07:16:03.428508Z",
     "start_time": "2020-09-15T07:16:03.389Z"
    }
   },
   "outputs": [
    {
     "data": {
      "text/html": [
       "<style>\n",
       ".list-inline {list-style: none; margin:0; padding: 0}\n",
       ".list-inline>li {display: inline-block}\n",
       ".list-inline>li:not(:last-child)::after {content: \"\\00b7\"; padding: 0 .5ex}\n",
       "</style>\n",
       "<ol class=list-inline><li>1</li><li>3</li><li>5</li><li>7</li><li>9</li></ol>\n"
      ],
      "text/latex": [
       "\\begin{enumerate*}\n",
       "\\item 1\n",
       "\\item 3\n",
       "\\item 5\n",
       "\\item 7\n",
       "\\item 9\n",
       "\\end{enumerate*}\n"
      ],
      "text/markdown": [
       "1. 1\n",
       "2. 3\n",
       "3. 5\n",
       "4. 7\n",
       "5. 9\n",
       "\n",
       "\n"
      ],
      "text/plain": [
       "[1] 1 3 5 7 9"
      ]
     },
     "metadata": {},
     "output_type": "display_data"
    }
   ],
   "source": [
    "vector3 = seq(1,9,by=2)\n",
    "vector3"
   ]
  },
  {
   "cell_type": "code",
   "execution_count": 35,
   "metadata": {
    "ExecuteTime": {
     "end_time": "2020-09-15T07:17:21.886318Z",
     "start_time": "2020-09-15T07:17:21.852Z"
    }
   },
   "outputs": [
    {
     "data": {
      "text/html": [
       "<style>\n",
       ".list-inline {list-style: none; margin:0; padding: 0}\n",
       ".list-inline>li {display: inline-block}\n",
       ".list-inline>li:not(:last-child)::after {content: \"\\00b7\"; padding: 0 .5ex}\n",
       "</style>\n",
       "<ol class=list-inline><li>1</li><li>1.44444444444444</li><li>1.88888888888889</li><li>2.33333333333333</li><li>2.77777777777778</li><li>3.22222222222222</li><li>3.66666666666667</li><li>4.11111111111111</li><li>4.55555555555556</li><li>5</li></ol>\n"
      ],
      "text/latex": [
       "\\begin{enumerate*}\n",
       "\\item 1\n",
       "\\item 1.44444444444444\n",
       "\\item 1.88888888888889\n",
       "\\item 2.33333333333333\n",
       "\\item 2.77777777777778\n",
       "\\item 3.22222222222222\n",
       "\\item 3.66666666666667\n",
       "\\item 4.11111111111111\n",
       "\\item 4.55555555555556\n",
       "\\item 5\n",
       "\\end{enumerate*}\n"
      ],
      "text/markdown": [
       "1. 1\n",
       "2. 1.44444444444444\n",
       "3. 1.88888888888889\n",
       "4. 2.33333333333333\n",
       "5. 2.77777777777778\n",
       "6. 3.22222222222222\n",
       "7. 3.66666666666667\n",
       "8. 4.11111111111111\n",
       "9. 4.55555555555556\n",
       "10. 5\n",
       "\n",
       "\n"
      ],
      "text/plain": [
       " [1] 1.000000 1.444444 1.888889 2.333333 2.777778 3.222222 3.666667 4.111111\n",
       " [9] 4.555556 5.000000"
      ]
     },
     "metadata": {},
     "output_type": "display_data"
    }
   ],
   "source": [
    "vector4 = seq(1,5,length=10)\n",
    "vector4"
   ]
  },
  {
   "cell_type": "code",
   "execution_count": 36,
   "metadata": {
    "ExecuteTime": {
     "end_time": "2020-09-15T07:19:03.309578Z",
     "start_time": "2020-09-15T07:19:03.263Z"
    }
   },
   "outputs": [
    {
     "data": {
      "text/html": [
       "<style>\n",
       ".list-inline {list-style: none; margin:0; padding: 0}\n",
       ".list-inline>li {display: inline-block}\n",
       ".list-inline>li:not(:last-child)::after {content: \"\\00b7\"; padding: 0 .5ex}\n",
       "</style>\n",
       "<ol class=list-inline><li>1</li><li>2</li><li>3</li><li>4</li><li>5</li></ol>\n"
      ],
      "text/latex": [
       "\\begin{enumerate*}\n",
       "\\item 1\n",
       "\\item 2\n",
       "\\item 3\n",
       "\\item 4\n",
       "\\item 5\n",
       "\\end{enumerate*}\n"
      ],
      "text/markdown": [
       "1. 1\n",
       "2. 2\n",
       "3. 3\n",
       "4. 4\n",
       "5. 5\n",
       "\n",
       "\n"
      ],
      "text/plain": [
       "[1] 1 2 3 4 5"
      ]
     },
     "metadata": {},
     "output_type": "display_data"
    }
   ],
   "source": [
    "v = seq(1,5)\n",
    "v"
   ]
  },
  {
   "cell_type": "code",
   "execution_count": 37,
   "metadata": {
    "ExecuteTime": {
     "end_time": "2020-09-15T07:19:10.763896Z",
     "start_time": "2020-09-15T07:19:10.728Z"
    }
   },
   "outputs": [
    {
     "data": {
      "text/html": [
       "<style>\n",
       ".list-inline {list-style: none; margin:0; padding: 0}\n",
       ".list-inline>li {display: inline-block}\n",
       ".list-inline>li:not(:last-child)::after {content: \"\\00b7\"; padding: 0 .5ex}\n",
       "</style>\n",
       "<ol class=list-inline><li>1</li><li>2</li><li>3</li></ol>\n"
      ],
      "text/latex": [
       "\\begin{enumerate*}\n",
       "\\item 1\n",
       "\\item 2\n",
       "\\item 3\n",
       "\\end{enumerate*}\n"
      ],
      "text/markdown": [
       "1. 1\n",
       "2. 2\n",
       "3. 3\n",
       "\n",
       "\n"
      ],
      "text/plain": [
       "[1] 1 2 3"
      ]
     },
     "metadata": {},
     "output_type": "display_data"
    }
   ],
   "source": [
    "v[1:3]"
   ]
  },
  {
   "cell_type": "code",
   "execution_count": 40,
   "metadata": {
    "ExecuteTime": {
     "end_time": "2020-09-15T07:19:36.572531Z",
     "start_time": "2020-09-15T07:19:36.510Z"
    }
   },
   "outputs": [
    {
     "data": {
      "text/html": [
       "<style>\n",
       ".list-inline {list-style: none; margin:0; padding: 0}\n",
       ".list-inline>li {display: inline-block}\n",
       ".list-inline>li:not(:last-child)::after {content: \"\\00b7\"; padding: 0 .5ex}\n",
       "</style>\n",
       "<ol class=list-inline><li>-1</li><li>-2</li></ol>\n"
      ],
      "text/latex": [
       "\\begin{enumerate*}\n",
       "\\item -1\n",
       "\\item -2\n",
       "\\end{enumerate*}\n"
      ],
      "text/markdown": [
       "1. -1\n",
       "2. -2\n",
       "\n",
       "\n"
      ],
      "text/plain": [
       "[1] -1 -2"
      ]
     },
     "metadata": {},
     "output_type": "display_data"
    }
   ],
   "source": [
    "-c(1,2)"
   ]
  },
  {
   "cell_type": "code",
   "execution_count": 50,
   "metadata": {
    "ExecuteTime": {
     "end_time": "2020-09-15T07:41:10.178039Z",
     "start_time": "2020-09-15T07:41:10.154Z"
    }
   },
   "outputs": [
    {
     "data": {
      "text/html": [
       "<style>\n",
       ".list-inline {list-style: none; margin:0; padding: 0}\n",
       ".list-inline>li {display: inline-block}\n",
       ".list-inline>li:not(:last-child)::after {content: \"\\00b7\"; padding: 0 .5ex}\n",
       "</style>\n",
       "<ol class=list-inline><li>3</li><li>4</li><li>5</li></ol>\n"
      ],
      "text/latex": [
       "\\begin{enumerate*}\n",
       "\\item 3\n",
       "\\item 4\n",
       "\\item 5\n",
       "\\end{enumerate*}\n"
      ],
      "text/markdown": [
       "1. 3\n",
       "2. 4\n",
       "3. 5\n",
       "\n",
       "\n"
      ],
      "text/plain": [
       "[1] 3 4 5"
      ]
     },
     "metadata": {},
     "output_type": "display_data"
    }
   ],
   "source": [
    "v[-c(1,2)]"
   ]
  },
  {
   "cell_type": "code",
   "execution_count": null,
   "metadata": {},
   "outputs": [],
   "source": []
  },
  {
   "cell_type": "markdown",
   "metadata": {},
   "source": [
    "## factor "
   ]
  },
  {
   "cell_type": "code",
   "execution_count": 42,
   "metadata": {
    "ExecuteTime": {
     "end_time": "2020-09-15T07:22:17.049869Z",
     "start_time": "2020-09-15T07:22:17.018Z"
    }
   },
   "outputs": [
    {
     "data": {
      "text/html": [
       "<style>\n",
       ".list-inline {list-style: none; margin:0; padding: 0}\n",
       ".list-inline>li {display: inline-block}\n",
       ".list-inline>li:not(:last-child)::after {content: \"\\00b7\"; padding: 0 .5ex}\n",
       "</style>\n",
       "<ol class=list-inline><li>1</li><li>1</li><li>2</li><li>3</li><li>5</li><li>8</li></ol>\n",
       "\n",
       "<details>\n",
       "\t<summary style=display:list-item;cursor:pointer>\n",
       "\t\t<strong>Levels</strong>:\n",
       "\t</summary>\n",
       "\t<style>\n",
       "\t.list-inline {list-style: none; margin:0; padding: 0}\n",
       "\t.list-inline>li {display: inline-block}\n",
       "\t.list-inline>li:not(:last-child)::after {content: \"\\00b7\"; padding: 0 .5ex}\n",
       "\t</style>\n",
       "\t<ol class=list-inline><li>'1'</li><li>'2'</li><li>'3'</li><li>'5'</li><li>'8'</li></ol>\n",
       "</details>"
      ],
      "text/latex": [
       "\\begin{enumerate*}\n",
       "\\item 1\n",
       "\\item 1\n",
       "\\item 2\n",
       "\\item 3\n",
       "\\item 5\n",
       "\\item 8\n",
       "\\end{enumerate*}\n",
       "\n",
       "\\emph{Levels}: \\begin{enumerate*}\n",
       "\\item '1'\n",
       "\\item '2'\n",
       "\\item '3'\n",
       "\\item '5'\n",
       "\\item '8'\n",
       "\\end{enumerate*}\n"
      ],
      "text/markdown": [
       "1. 1\n",
       "2. 1\n",
       "3. 2\n",
       "4. 3\n",
       "5. 5\n",
       "6. 8\n",
       "\n",
       "\n",
       "\n",
       "**Levels**: 1. '1'\n",
       "2. '2'\n",
       "3. '3'\n",
       "4. '5'\n",
       "5. '8'\n",
       "\n",
       "\n"
      ],
      "text/plain": [
       "[1] 1 1 2 3 5 8\n",
       "Levels: 1 2 3 5 8"
      ]
     },
     "metadata": {},
     "output_type": "display_data"
    }
   ],
   "source": [
    "factor(c(1,1,2,3,5,8))"
   ]
  },
  {
   "cell_type": "markdown",
   "metadata": {},
   "source": [
    "## dataset"
   ]
  },
  {
   "cell_type": "code",
   "execution_count": 34,
   "metadata": {
    "ExecuteTime": {
     "end_time": "2020-09-08T06:54:09.711750Z",
     "start_time": "2020-09-08T06:54:09.616Z"
    },
    "scrolled": true
   },
   "outputs": [
    {
     "data": {
      "text/html": [
       "<table>\n",
       "<caption>A data.frame: 32 × 11</caption>\n",
       "<thead>\n",
       "\t<tr><th></th><th scope=col>mpg</th><th scope=col>cyl</th><th scope=col>disp</th><th scope=col>hp</th><th scope=col>drat</th><th scope=col>wt</th><th scope=col>qsec</th><th scope=col>vs</th><th scope=col>am</th><th scope=col>gear</th><th scope=col>carb</th></tr>\n",
       "\t<tr><th></th><th scope=col>&lt;dbl&gt;</th><th scope=col>&lt;dbl&gt;</th><th scope=col>&lt;dbl&gt;</th><th scope=col>&lt;dbl&gt;</th><th scope=col>&lt;dbl&gt;</th><th scope=col>&lt;dbl&gt;</th><th scope=col>&lt;dbl&gt;</th><th scope=col>&lt;dbl&gt;</th><th scope=col>&lt;dbl&gt;</th><th scope=col>&lt;dbl&gt;</th><th scope=col>&lt;dbl&gt;</th></tr>\n",
       "</thead>\n",
       "<tbody>\n",
       "\t<tr><th scope=row>Mazda RX4</th><td>21.0</td><td>6</td><td>160.0</td><td>110</td><td>3.90</td><td>2.620</td><td>16.46</td><td>0</td><td>1</td><td>4</td><td>4</td></tr>\n",
       "\t<tr><th scope=row>Mazda RX4 Wag</th><td>21.0</td><td>6</td><td>160.0</td><td>110</td><td>3.90</td><td>2.875</td><td>17.02</td><td>0</td><td>1</td><td>4</td><td>4</td></tr>\n",
       "\t<tr><th scope=row>Datsun 710</th><td>22.8</td><td>4</td><td>108.0</td><td> 93</td><td>3.85</td><td>2.320</td><td>18.61</td><td>1</td><td>1</td><td>4</td><td>1</td></tr>\n",
       "\t<tr><th scope=row>Hornet 4 Drive</th><td>21.4</td><td>6</td><td>258.0</td><td>110</td><td>3.08</td><td>3.215</td><td>19.44</td><td>1</td><td>0</td><td>3</td><td>1</td></tr>\n",
       "\t<tr><th scope=row>Hornet Sportabout</th><td>18.7</td><td>8</td><td>360.0</td><td>175</td><td>3.15</td><td>3.440</td><td>17.02</td><td>0</td><td>0</td><td>3</td><td>2</td></tr>\n",
       "\t<tr><th scope=row>Valiant</th><td>18.1</td><td>6</td><td>225.0</td><td>105</td><td>2.76</td><td>3.460</td><td>20.22</td><td>1</td><td>0</td><td>3</td><td>1</td></tr>\n",
       "\t<tr><th scope=row>Duster 360</th><td>14.3</td><td>8</td><td>360.0</td><td>245</td><td>3.21</td><td>3.570</td><td>15.84</td><td>0</td><td>0</td><td>3</td><td>4</td></tr>\n",
       "\t<tr><th scope=row>Merc 240D</th><td>24.4</td><td>4</td><td>146.7</td><td> 62</td><td>3.69</td><td>3.190</td><td>20.00</td><td>1</td><td>0</td><td>4</td><td>2</td></tr>\n",
       "\t<tr><th scope=row>Merc 230</th><td>22.8</td><td>4</td><td>140.8</td><td> 95</td><td>3.92</td><td>3.150</td><td>22.90</td><td>1</td><td>0</td><td>4</td><td>2</td></tr>\n",
       "\t<tr><th scope=row>Merc 280</th><td>19.2</td><td>6</td><td>167.6</td><td>123</td><td>3.92</td><td>3.440</td><td>18.30</td><td>1</td><td>0</td><td>4</td><td>4</td></tr>\n",
       "\t<tr><th scope=row>Merc 280C</th><td>17.8</td><td>6</td><td>167.6</td><td>123</td><td>3.92</td><td>3.440</td><td>18.90</td><td>1</td><td>0</td><td>4</td><td>4</td></tr>\n",
       "\t<tr><th scope=row>Merc 450SE</th><td>16.4</td><td>8</td><td>275.8</td><td>180</td><td>3.07</td><td>4.070</td><td>17.40</td><td>0</td><td>0</td><td>3</td><td>3</td></tr>\n",
       "\t<tr><th scope=row>Merc 450SL</th><td>17.3</td><td>8</td><td>275.8</td><td>180</td><td>3.07</td><td>3.730</td><td>17.60</td><td>0</td><td>0</td><td>3</td><td>3</td></tr>\n",
       "\t<tr><th scope=row>Merc 450SLC</th><td>15.2</td><td>8</td><td>275.8</td><td>180</td><td>3.07</td><td>3.780</td><td>18.00</td><td>0</td><td>0</td><td>3</td><td>3</td></tr>\n",
       "\t<tr><th scope=row>Cadillac Fleetwood</th><td>10.4</td><td>8</td><td>472.0</td><td>205</td><td>2.93</td><td>5.250</td><td>17.98</td><td>0</td><td>0</td><td>3</td><td>4</td></tr>\n",
       "\t<tr><th scope=row>Lincoln Continental</th><td>10.4</td><td>8</td><td>460.0</td><td>215</td><td>3.00</td><td>5.424</td><td>17.82</td><td>0</td><td>0</td><td>3</td><td>4</td></tr>\n",
       "\t<tr><th scope=row>Chrysler Imperial</th><td>14.7</td><td>8</td><td>440.0</td><td>230</td><td>3.23</td><td>5.345</td><td>17.42</td><td>0</td><td>0</td><td>3</td><td>4</td></tr>\n",
       "\t<tr><th scope=row>Fiat 128</th><td>32.4</td><td>4</td><td> 78.7</td><td> 66</td><td>4.08</td><td>2.200</td><td>19.47</td><td>1</td><td>1</td><td>4</td><td>1</td></tr>\n",
       "\t<tr><th scope=row>Honda Civic</th><td>30.4</td><td>4</td><td> 75.7</td><td> 52</td><td>4.93</td><td>1.615</td><td>18.52</td><td>1</td><td>1</td><td>4</td><td>2</td></tr>\n",
       "\t<tr><th scope=row>Toyota Corolla</th><td>33.9</td><td>4</td><td> 71.1</td><td> 65</td><td>4.22</td><td>1.835</td><td>19.90</td><td>1</td><td>1</td><td>4</td><td>1</td></tr>\n",
       "\t<tr><th scope=row>Toyota Corona</th><td>21.5</td><td>4</td><td>120.1</td><td> 97</td><td>3.70</td><td>2.465</td><td>20.01</td><td>1</td><td>0</td><td>3</td><td>1</td></tr>\n",
       "\t<tr><th scope=row>Dodge Challenger</th><td>15.5</td><td>8</td><td>318.0</td><td>150</td><td>2.76</td><td>3.520</td><td>16.87</td><td>0</td><td>0</td><td>3</td><td>2</td></tr>\n",
       "\t<tr><th scope=row>AMC Javelin</th><td>15.2</td><td>8</td><td>304.0</td><td>150</td><td>3.15</td><td>3.435</td><td>17.30</td><td>0</td><td>0</td><td>3</td><td>2</td></tr>\n",
       "\t<tr><th scope=row>Camaro Z28</th><td>13.3</td><td>8</td><td>350.0</td><td>245</td><td>3.73</td><td>3.840</td><td>15.41</td><td>0</td><td>0</td><td>3</td><td>4</td></tr>\n",
       "\t<tr><th scope=row>Pontiac Firebird</th><td>19.2</td><td>8</td><td>400.0</td><td>175</td><td>3.08</td><td>3.845</td><td>17.05</td><td>0</td><td>0</td><td>3</td><td>2</td></tr>\n",
       "\t<tr><th scope=row>Fiat X1-9</th><td>27.3</td><td>4</td><td> 79.0</td><td> 66</td><td>4.08</td><td>1.935</td><td>18.90</td><td>1</td><td>1</td><td>4</td><td>1</td></tr>\n",
       "\t<tr><th scope=row>Porsche 914-2</th><td>26.0</td><td>4</td><td>120.3</td><td> 91</td><td>4.43</td><td>2.140</td><td>16.70</td><td>0</td><td>1</td><td>5</td><td>2</td></tr>\n",
       "\t<tr><th scope=row>Lotus Europa</th><td>30.4</td><td>4</td><td> 95.1</td><td>113</td><td>3.77</td><td>1.513</td><td>16.90</td><td>1</td><td>1</td><td>5</td><td>2</td></tr>\n",
       "\t<tr><th scope=row>Ford Pantera L</th><td>15.8</td><td>8</td><td>351.0</td><td>264</td><td>4.22</td><td>3.170</td><td>14.50</td><td>0</td><td>1</td><td>5</td><td>4</td></tr>\n",
       "\t<tr><th scope=row>Ferrari Dino</th><td>19.7</td><td>6</td><td>145.0</td><td>175</td><td>3.62</td><td>2.770</td><td>15.50</td><td>0</td><td>1</td><td>5</td><td>6</td></tr>\n",
       "\t<tr><th scope=row>Maserati Bora</th><td>15.0</td><td>8</td><td>301.0</td><td>335</td><td>3.54</td><td>3.570</td><td>14.60</td><td>0</td><td>1</td><td>5</td><td>8</td></tr>\n",
       "\t<tr><th scope=row>Volvo 142E</th><td>21.4</td><td>4</td><td>121.0</td><td>109</td><td>4.11</td><td>2.780</td><td>18.60</td><td>1</td><td>1</td><td>4</td><td>2</td></tr>\n",
       "</tbody>\n",
       "</table>\n"
      ],
      "text/latex": [
       "A data.frame: 32 × 11\n",
       "\\begin{tabular}{r|lllllllllll}\n",
       "  & mpg & cyl & disp & hp & drat & wt & qsec & vs & am & gear & carb\\\\\n",
       "  & <dbl> & <dbl> & <dbl> & <dbl> & <dbl> & <dbl> & <dbl> & <dbl> & <dbl> & <dbl> & <dbl>\\\\\n",
       "\\hline\n",
       "\tMazda RX4 & 21.0 & 6 & 160.0 & 110 & 3.90 & 2.620 & 16.46 & 0 & 1 & 4 & 4\\\\\n",
       "\tMazda RX4 Wag & 21.0 & 6 & 160.0 & 110 & 3.90 & 2.875 & 17.02 & 0 & 1 & 4 & 4\\\\\n",
       "\tDatsun 710 & 22.8 & 4 & 108.0 &  93 & 3.85 & 2.320 & 18.61 & 1 & 1 & 4 & 1\\\\\n",
       "\tHornet 4 Drive & 21.4 & 6 & 258.0 & 110 & 3.08 & 3.215 & 19.44 & 1 & 0 & 3 & 1\\\\\n",
       "\tHornet Sportabout & 18.7 & 8 & 360.0 & 175 & 3.15 & 3.440 & 17.02 & 0 & 0 & 3 & 2\\\\\n",
       "\tValiant & 18.1 & 6 & 225.0 & 105 & 2.76 & 3.460 & 20.22 & 1 & 0 & 3 & 1\\\\\n",
       "\tDuster 360 & 14.3 & 8 & 360.0 & 245 & 3.21 & 3.570 & 15.84 & 0 & 0 & 3 & 4\\\\\n",
       "\tMerc 240D & 24.4 & 4 & 146.7 &  62 & 3.69 & 3.190 & 20.00 & 1 & 0 & 4 & 2\\\\\n",
       "\tMerc 230 & 22.8 & 4 & 140.8 &  95 & 3.92 & 3.150 & 22.90 & 1 & 0 & 4 & 2\\\\\n",
       "\tMerc 280 & 19.2 & 6 & 167.6 & 123 & 3.92 & 3.440 & 18.30 & 1 & 0 & 4 & 4\\\\\n",
       "\tMerc 280C & 17.8 & 6 & 167.6 & 123 & 3.92 & 3.440 & 18.90 & 1 & 0 & 4 & 4\\\\\n",
       "\tMerc 450SE & 16.4 & 8 & 275.8 & 180 & 3.07 & 4.070 & 17.40 & 0 & 0 & 3 & 3\\\\\n",
       "\tMerc 450SL & 17.3 & 8 & 275.8 & 180 & 3.07 & 3.730 & 17.60 & 0 & 0 & 3 & 3\\\\\n",
       "\tMerc 450SLC & 15.2 & 8 & 275.8 & 180 & 3.07 & 3.780 & 18.00 & 0 & 0 & 3 & 3\\\\\n",
       "\tCadillac Fleetwood & 10.4 & 8 & 472.0 & 205 & 2.93 & 5.250 & 17.98 & 0 & 0 & 3 & 4\\\\\n",
       "\tLincoln Continental & 10.4 & 8 & 460.0 & 215 & 3.00 & 5.424 & 17.82 & 0 & 0 & 3 & 4\\\\\n",
       "\tChrysler Imperial & 14.7 & 8 & 440.0 & 230 & 3.23 & 5.345 & 17.42 & 0 & 0 & 3 & 4\\\\\n",
       "\tFiat 128 & 32.4 & 4 &  78.7 &  66 & 4.08 & 2.200 & 19.47 & 1 & 1 & 4 & 1\\\\\n",
       "\tHonda Civic & 30.4 & 4 &  75.7 &  52 & 4.93 & 1.615 & 18.52 & 1 & 1 & 4 & 2\\\\\n",
       "\tToyota Corolla & 33.9 & 4 &  71.1 &  65 & 4.22 & 1.835 & 19.90 & 1 & 1 & 4 & 1\\\\\n",
       "\tToyota Corona & 21.5 & 4 & 120.1 &  97 & 3.70 & 2.465 & 20.01 & 1 & 0 & 3 & 1\\\\\n",
       "\tDodge Challenger & 15.5 & 8 & 318.0 & 150 & 2.76 & 3.520 & 16.87 & 0 & 0 & 3 & 2\\\\\n",
       "\tAMC Javelin & 15.2 & 8 & 304.0 & 150 & 3.15 & 3.435 & 17.30 & 0 & 0 & 3 & 2\\\\\n",
       "\tCamaro Z28 & 13.3 & 8 & 350.0 & 245 & 3.73 & 3.840 & 15.41 & 0 & 0 & 3 & 4\\\\\n",
       "\tPontiac Firebird & 19.2 & 8 & 400.0 & 175 & 3.08 & 3.845 & 17.05 & 0 & 0 & 3 & 2\\\\\n",
       "\tFiat X1-9 & 27.3 & 4 &  79.0 &  66 & 4.08 & 1.935 & 18.90 & 1 & 1 & 4 & 1\\\\\n",
       "\tPorsche 914-2 & 26.0 & 4 & 120.3 &  91 & 4.43 & 2.140 & 16.70 & 0 & 1 & 5 & 2\\\\\n",
       "\tLotus Europa & 30.4 & 4 &  95.1 & 113 & 3.77 & 1.513 & 16.90 & 1 & 1 & 5 & 2\\\\\n",
       "\tFord Pantera L & 15.8 & 8 & 351.0 & 264 & 4.22 & 3.170 & 14.50 & 0 & 1 & 5 & 4\\\\\n",
       "\tFerrari Dino & 19.7 & 6 & 145.0 & 175 & 3.62 & 2.770 & 15.50 & 0 & 1 & 5 & 6\\\\\n",
       "\tMaserati Bora & 15.0 & 8 & 301.0 & 335 & 3.54 & 3.570 & 14.60 & 0 & 1 & 5 & 8\\\\\n",
       "\tVolvo 142E & 21.4 & 4 & 121.0 & 109 & 4.11 & 2.780 & 18.60 & 1 & 1 & 4 & 2\\\\\n",
       "\\end{tabular}\n"
      ],
      "text/markdown": [
       "\n",
       "A data.frame: 32 × 11\n",
       "\n",
       "| <!--/--> | mpg &lt;dbl&gt; | cyl &lt;dbl&gt; | disp &lt;dbl&gt; | hp &lt;dbl&gt; | drat &lt;dbl&gt; | wt &lt;dbl&gt; | qsec &lt;dbl&gt; | vs &lt;dbl&gt; | am &lt;dbl&gt; | gear &lt;dbl&gt; | carb &lt;dbl&gt; |\n",
       "|---|---|---|---|---|---|---|---|---|---|---|---|\n",
       "| Mazda RX4 | 21.0 | 6 | 160.0 | 110 | 3.90 | 2.620 | 16.46 | 0 | 1 | 4 | 4 |\n",
       "| Mazda RX4 Wag | 21.0 | 6 | 160.0 | 110 | 3.90 | 2.875 | 17.02 | 0 | 1 | 4 | 4 |\n",
       "| Datsun 710 | 22.8 | 4 | 108.0 |  93 | 3.85 | 2.320 | 18.61 | 1 | 1 | 4 | 1 |\n",
       "| Hornet 4 Drive | 21.4 | 6 | 258.0 | 110 | 3.08 | 3.215 | 19.44 | 1 | 0 | 3 | 1 |\n",
       "| Hornet Sportabout | 18.7 | 8 | 360.0 | 175 | 3.15 | 3.440 | 17.02 | 0 | 0 | 3 | 2 |\n",
       "| Valiant | 18.1 | 6 | 225.0 | 105 | 2.76 | 3.460 | 20.22 | 1 | 0 | 3 | 1 |\n",
       "| Duster 360 | 14.3 | 8 | 360.0 | 245 | 3.21 | 3.570 | 15.84 | 0 | 0 | 3 | 4 |\n",
       "| Merc 240D | 24.4 | 4 | 146.7 |  62 | 3.69 | 3.190 | 20.00 | 1 | 0 | 4 | 2 |\n",
       "| Merc 230 | 22.8 | 4 | 140.8 |  95 | 3.92 | 3.150 | 22.90 | 1 | 0 | 4 | 2 |\n",
       "| Merc 280 | 19.2 | 6 | 167.6 | 123 | 3.92 | 3.440 | 18.30 | 1 | 0 | 4 | 4 |\n",
       "| Merc 280C | 17.8 | 6 | 167.6 | 123 | 3.92 | 3.440 | 18.90 | 1 | 0 | 4 | 4 |\n",
       "| Merc 450SE | 16.4 | 8 | 275.8 | 180 | 3.07 | 4.070 | 17.40 | 0 | 0 | 3 | 3 |\n",
       "| Merc 450SL | 17.3 | 8 | 275.8 | 180 | 3.07 | 3.730 | 17.60 | 0 | 0 | 3 | 3 |\n",
       "| Merc 450SLC | 15.2 | 8 | 275.8 | 180 | 3.07 | 3.780 | 18.00 | 0 | 0 | 3 | 3 |\n",
       "| Cadillac Fleetwood | 10.4 | 8 | 472.0 | 205 | 2.93 | 5.250 | 17.98 | 0 | 0 | 3 | 4 |\n",
       "| Lincoln Continental | 10.4 | 8 | 460.0 | 215 | 3.00 | 5.424 | 17.82 | 0 | 0 | 3 | 4 |\n",
       "| Chrysler Imperial | 14.7 | 8 | 440.0 | 230 | 3.23 | 5.345 | 17.42 | 0 | 0 | 3 | 4 |\n",
       "| Fiat 128 | 32.4 | 4 |  78.7 |  66 | 4.08 | 2.200 | 19.47 | 1 | 1 | 4 | 1 |\n",
       "| Honda Civic | 30.4 | 4 |  75.7 |  52 | 4.93 | 1.615 | 18.52 | 1 | 1 | 4 | 2 |\n",
       "| Toyota Corolla | 33.9 | 4 |  71.1 |  65 | 4.22 | 1.835 | 19.90 | 1 | 1 | 4 | 1 |\n",
       "| Toyota Corona | 21.5 | 4 | 120.1 |  97 | 3.70 | 2.465 | 20.01 | 1 | 0 | 3 | 1 |\n",
       "| Dodge Challenger | 15.5 | 8 | 318.0 | 150 | 2.76 | 3.520 | 16.87 | 0 | 0 | 3 | 2 |\n",
       "| AMC Javelin | 15.2 | 8 | 304.0 | 150 | 3.15 | 3.435 | 17.30 | 0 | 0 | 3 | 2 |\n",
       "| Camaro Z28 | 13.3 | 8 | 350.0 | 245 | 3.73 | 3.840 | 15.41 | 0 | 0 | 3 | 4 |\n",
       "| Pontiac Firebird | 19.2 | 8 | 400.0 | 175 | 3.08 | 3.845 | 17.05 | 0 | 0 | 3 | 2 |\n",
       "| Fiat X1-9 | 27.3 | 4 |  79.0 |  66 | 4.08 | 1.935 | 18.90 | 1 | 1 | 4 | 1 |\n",
       "| Porsche 914-2 | 26.0 | 4 | 120.3 |  91 | 4.43 | 2.140 | 16.70 | 0 | 1 | 5 | 2 |\n",
       "| Lotus Europa | 30.4 | 4 |  95.1 | 113 | 3.77 | 1.513 | 16.90 | 1 | 1 | 5 | 2 |\n",
       "| Ford Pantera L | 15.8 | 8 | 351.0 | 264 | 4.22 | 3.170 | 14.50 | 0 | 1 | 5 | 4 |\n",
       "| Ferrari Dino | 19.7 | 6 | 145.0 | 175 | 3.62 | 2.770 | 15.50 | 0 | 1 | 5 | 6 |\n",
       "| Maserati Bora | 15.0 | 8 | 301.0 | 335 | 3.54 | 3.570 | 14.60 | 0 | 1 | 5 | 8 |\n",
       "| Volvo 142E | 21.4 | 4 | 121.0 | 109 | 4.11 | 2.780 | 18.60 | 1 | 1 | 4 | 2 |\n",
       "\n"
      ],
      "text/plain": [
       "                    mpg  cyl disp  hp  drat wt    qsec  vs am gear carb\n",
       "Mazda RX4           21.0 6   160.0 110 3.90 2.620 16.46 0  1  4    4   \n",
       "Mazda RX4 Wag       21.0 6   160.0 110 3.90 2.875 17.02 0  1  4    4   \n",
       "Datsun 710          22.8 4   108.0  93 3.85 2.320 18.61 1  1  4    1   \n",
       "Hornet 4 Drive      21.4 6   258.0 110 3.08 3.215 19.44 1  0  3    1   \n",
       "Hornet Sportabout   18.7 8   360.0 175 3.15 3.440 17.02 0  0  3    2   \n",
       "Valiant             18.1 6   225.0 105 2.76 3.460 20.22 1  0  3    1   \n",
       "Duster 360          14.3 8   360.0 245 3.21 3.570 15.84 0  0  3    4   \n",
       "Merc 240D           24.4 4   146.7  62 3.69 3.190 20.00 1  0  4    2   \n",
       "Merc 230            22.8 4   140.8  95 3.92 3.150 22.90 1  0  4    2   \n",
       "Merc 280            19.2 6   167.6 123 3.92 3.440 18.30 1  0  4    4   \n",
       "Merc 280C           17.8 6   167.6 123 3.92 3.440 18.90 1  0  4    4   \n",
       "Merc 450SE          16.4 8   275.8 180 3.07 4.070 17.40 0  0  3    3   \n",
       "Merc 450SL          17.3 8   275.8 180 3.07 3.730 17.60 0  0  3    3   \n",
       "Merc 450SLC         15.2 8   275.8 180 3.07 3.780 18.00 0  0  3    3   \n",
       "Cadillac Fleetwood  10.4 8   472.0 205 2.93 5.250 17.98 0  0  3    4   \n",
       "Lincoln Continental 10.4 8   460.0 215 3.00 5.424 17.82 0  0  3    4   \n",
       "Chrysler Imperial   14.7 8   440.0 230 3.23 5.345 17.42 0  0  3    4   \n",
       "Fiat 128            32.4 4    78.7  66 4.08 2.200 19.47 1  1  4    1   \n",
       "Honda Civic         30.4 4    75.7  52 4.93 1.615 18.52 1  1  4    2   \n",
       "Toyota Corolla      33.9 4    71.1  65 4.22 1.835 19.90 1  1  4    1   \n",
       "Toyota Corona       21.5 4   120.1  97 3.70 2.465 20.01 1  0  3    1   \n",
       "Dodge Challenger    15.5 8   318.0 150 2.76 3.520 16.87 0  0  3    2   \n",
       "AMC Javelin         15.2 8   304.0 150 3.15 3.435 17.30 0  0  3    2   \n",
       "Camaro Z28          13.3 8   350.0 245 3.73 3.840 15.41 0  0  3    4   \n",
       "Pontiac Firebird    19.2 8   400.0 175 3.08 3.845 17.05 0  0  3    2   \n",
       "Fiat X1-9           27.3 4    79.0  66 4.08 1.935 18.90 1  1  4    1   \n",
       "Porsche 914-2       26.0 4   120.3  91 4.43 2.140 16.70 0  1  5    2   \n",
       "Lotus Europa        30.4 4    95.1 113 3.77 1.513 16.90 1  1  5    2   \n",
       "Ford Pantera L      15.8 8   351.0 264 4.22 3.170 14.50 0  1  5    4   \n",
       "Ferrari Dino        19.7 6   145.0 175 3.62 2.770 15.50 0  1  5    6   \n",
       "Maserati Bora       15.0 8   301.0 335 3.54 3.570 14.60 0  1  5    8   \n",
       "Volvo 142E          21.4 4   121.0 109 4.11 2.780 18.60 1  1  4    2   "
      ]
     },
     "metadata": {},
     "output_type": "display_data"
    }
   ],
   "source": [
    "mtcars"
   ]
  },
  {
   "cell_type": "code",
   "execution_count": 37,
   "metadata": {
    "ExecuteTime": {
     "end_time": "2020-09-08T06:55:13.313759Z",
     "start_time": "2020-09-08T06:55:13.269Z"
    }
   },
   "outputs": [
    {
     "data": {
      "text/html": [
       "<table>\n",
       "<caption>A data.frame: 6 × 11</caption>\n",
       "<thead>\n",
       "\t<tr><th></th><th scope=col>mpg</th><th scope=col>cyl</th><th scope=col>disp</th><th scope=col>hp</th><th scope=col>drat</th><th scope=col>wt</th><th scope=col>qsec</th><th scope=col>vs</th><th scope=col>am</th><th scope=col>gear</th><th scope=col>carb</th></tr>\n",
       "\t<tr><th></th><th scope=col>&lt;dbl&gt;</th><th scope=col>&lt;dbl&gt;</th><th scope=col>&lt;dbl&gt;</th><th scope=col>&lt;dbl&gt;</th><th scope=col>&lt;dbl&gt;</th><th scope=col>&lt;dbl&gt;</th><th scope=col>&lt;dbl&gt;</th><th scope=col>&lt;dbl&gt;</th><th scope=col>&lt;dbl&gt;</th><th scope=col>&lt;dbl&gt;</th><th scope=col>&lt;dbl&gt;</th></tr>\n",
       "</thead>\n",
       "<tbody>\n",
       "\t<tr><th scope=row>Mazda RX4</th><td>21.0</td><td>6</td><td>160</td><td>110</td><td>3.90</td><td>2.620</td><td>16.46</td><td>0</td><td>1</td><td>4</td><td>4</td></tr>\n",
       "\t<tr><th scope=row>Mazda RX4 Wag</th><td>21.0</td><td>6</td><td>160</td><td>110</td><td>3.90</td><td>2.875</td><td>17.02</td><td>0</td><td>1</td><td>4</td><td>4</td></tr>\n",
       "\t<tr><th scope=row>Datsun 710</th><td>22.8</td><td>4</td><td>108</td><td> 93</td><td>3.85</td><td>2.320</td><td>18.61</td><td>1</td><td>1</td><td>4</td><td>1</td></tr>\n",
       "\t<tr><th scope=row>Hornet 4 Drive</th><td>21.4</td><td>6</td><td>258</td><td>110</td><td>3.08</td><td>3.215</td><td>19.44</td><td>1</td><td>0</td><td>3</td><td>1</td></tr>\n",
       "\t<tr><th scope=row>Hornet Sportabout</th><td>18.7</td><td>8</td><td>360</td><td>175</td><td>3.15</td><td>3.440</td><td>17.02</td><td>0</td><td>0</td><td>3</td><td>2</td></tr>\n",
       "\t<tr><th scope=row>Valiant</th><td>18.1</td><td>6</td><td>225</td><td>105</td><td>2.76</td><td>3.460</td><td>20.22</td><td>1</td><td>0</td><td>3</td><td>1</td></tr>\n",
       "</tbody>\n",
       "</table>\n"
      ],
      "text/latex": [
       "A data.frame: 6 × 11\n",
       "\\begin{tabular}{r|lllllllllll}\n",
       "  & mpg & cyl & disp & hp & drat & wt & qsec & vs & am & gear & carb\\\\\n",
       "  & <dbl> & <dbl> & <dbl> & <dbl> & <dbl> & <dbl> & <dbl> & <dbl> & <dbl> & <dbl> & <dbl>\\\\\n",
       "\\hline\n",
       "\tMazda RX4 & 21.0 & 6 & 160 & 110 & 3.90 & 2.620 & 16.46 & 0 & 1 & 4 & 4\\\\\n",
       "\tMazda RX4 Wag & 21.0 & 6 & 160 & 110 & 3.90 & 2.875 & 17.02 & 0 & 1 & 4 & 4\\\\\n",
       "\tDatsun 710 & 22.8 & 4 & 108 &  93 & 3.85 & 2.320 & 18.61 & 1 & 1 & 4 & 1\\\\\n",
       "\tHornet 4 Drive & 21.4 & 6 & 258 & 110 & 3.08 & 3.215 & 19.44 & 1 & 0 & 3 & 1\\\\\n",
       "\tHornet Sportabout & 18.7 & 8 & 360 & 175 & 3.15 & 3.440 & 17.02 & 0 & 0 & 3 & 2\\\\\n",
       "\tValiant & 18.1 & 6 & 225 & 105 & 2.76 & 3.460 & 20.22 & 1 & 0 & 3 & 1\\\\\n",
       "\\end{tabular}\n"
      ],
      "text/markdown": [
       "\n",
       "A data.frame: 6 × 11\n",
       "\n",
       "| <!--/--> | mpg &lt;dbl&gt; | cyl &lt;dbl&gt; | disp &lt;dbl&gt; | hp &lt;dbl&gt; | drat &lt;dbl&gt; | wt &lt;dbl&gt; | qsec &lt;dbl&gt; | vs &lt;dbl&gt; | am &lt;dbl&gt; | gear &lt;dbl&gt; | carb &lt;dbl&gt; |\n",
       "|---|---|---|---|---|---|---|---|---|---|---|---|\n",
       "| Mazda RX4 | 21.0 | 6 | 160 | 110 | 3.90 | 2.620 | 16.46 | 0 | 1 | 4 | 4 |\n",
       "| Mazda RX4 Wag | 21.0 | 6 | 160 | 110 | 3.90 | 2.875 | 17.02 | 0 | 1 | 4 | 4 |\n",
       "| Datsun 710 | 22.8 | 4 | 108 |  93 | 3.85 | 2.320 | 18.61 | 1 | 1 | 4 | 1 |\n",
       "| Hornet 4 Drive | 21.4 | 6 | 258 | 110 | 3.08 | 3.215 | 19.44 | 1 | 0 | 3 | 1 |\n",
       "| Hornet Sportabout | 18.7 | 8 | 360 | 175 | 3.15 | 3.440 | 17.02 | 0 | 0 | 3 | 2 |\n",
       "| Valiant | 18.1 | 6 | 225 | 105 | 2.76 | 3.460 | 20.22 | 1 | 0 | 3 | 1 |\n",
       "\n"
      ],
      "text/plain": [
       "                  mpg  cyl disp hp  drat wt    qsec  vs am gear carb\n",
       "Mazda RX4         21.0 6   160  110 3.90 2.620 16.46 0  1  4    4   \n",
       "Mazda RX4 Wag     21.0 6   160  110 3.90 2.875 17.02 0  1  4    4   \n",
       "Datsun 710        22.8 4   108   93 3.85 2.320 18.61 1  1  4    1   \n",
       "Hornet 4 Drive    21.4 6   258  110 3.08 3.215 19.44 1  0  3    1   \n",
       "Hornet Sportabout 18.7 8   360  175 3.15 3.440 17.02 0  0  3    2   \n",
       "Valiant           18.1 6   225  105 2.76 3.460 20.22 1  0  3    1   "
      ]
     },
     "metadata": {},
     "output_type": "display_data"
    }
   ],
   "source": [
    "head(mtcars)"
   ]
  },
  {
   "cell_type": "code",
   "execution_count": 43,
   "metadata": {
    "ExecuteTime": {
     "end_time": "2020-09-08T06:58:16.809335Z",
     "start_time": "2020-09-08T06:58:16.786Z"
    }
   },
   "outputs": [
    {
     "data": {
      "text/html": [
       "10.4"
      ],
      "text/latex": [
       "10.4"
      ],
      "text/markdown": [
       "10.4"
      ],
      "text/plain": [
       "[1] 10.4"
      ]
     },
     "metadata": {},
     "output_type": "display_data"
    }
   ],
   "source": [
    "min(mtcars$mpg)"
   ]
  },
  {
   "cell_type": "code",
   "execution_count": 44,
   "metadata": {
    "ExecuteTime": {
     "end_time": "2020-09-08T06:59:14.274899Z",
     "start_time": "2020-09-08T06:59:14.256Z"
    }
   },
   "outputs": [
    {
     "data": {
      "text/html": [
       "19.2"
      ],
      "text/latex": [
       "19.2"
      ],
      "text/markdown": [
       "19.2"
      ],
      "text/plain": [
       "[1] 19.2"
      ]
     },
     "metadata": {},
     "output_type": "display_data"
    }
   ],
   "source": [
    "median(mtcars$mpg)"
   ]
  },
  {
   "cell_type": "code",
   "execution_count": 48,
   "metadata": {
    "ExecuteTime": {
     "end_time": "2020-09-08T07:12:24.024690Z",
     "start_time": "2020-09-08T07:12:24.002Z"
    }
   },
   "outputs": [
    {
     "data": {
      "text/html": [
       "6.0269480520891"
      ],
      "text/latex": [
       "6.0269480520891"
      ],
      "text/markdown": [
       "6.0269480520891"
      ],
      "text/plain": [
       "[1] 6.026948"
      ]
     },
     "metadata": {},
     "output_type": "display_data"
    }
   ],
   "source": [
    "sd(mtcars$mpg)"
   ]
  },
  {
   "cell_type": "code",
   "execution_count": 49,
   "metadata": {
    "ExecuteTime": {
     "end_time": "2020-09-08T07:12:30.076100Z",
     "start_time": "2020-09-08T07:12:30.055Z"
    },
    "scrolled": false
   },
   "outputs": [
    {
     "data": {
      "text/plain": [
       "      mpg             cyl             disp             hp       \n",
       " Min.   :10.40   Min.   :4.000   Min.   : 71.1   Min.   : 52.0  \n",
       " 1st Qu.:15.43   1st Qu.:4.000   1st Qu.:120.8   1st Qu.: 96.5  \n",
       " Median :19.20   Median :6.000   Median :196.3   Median :123.0  \n",
       " Mean   :20.09   Mean   :6.188   Mean   :230.7   Mean   :146.7  \n",
       " 3rd Qu.:22.80   3rd Qu.:8.000   3rd Qu.:326.0   3rd Qu.:180.0  \n",
       " Max.   :33.90   Max.   :8.000   Max.   :472.0   Max.   :335.0  \n",
       "      drat             wt             qsec             vs        \n",
       " Min.   :2.760   Min.   :1.513   Min.   :14.50   Min.   :0.0000  \n",
       " 1st Qu.:3.080   1st Qu.:2.581   1st Qu.:16.89   1st Qu.:0.0000  \n",
       " Median :3.695   Median :3.325   Median :17.71   Median :0.0000  \n",
       " Mean   :3.597   Mean   :3.217   Mean   :17.85   Mean   :0.4375  \n",
       " 3rd Qu.:3.920   3rd Qu.:3.610   3rd Qu.:18.90   3rd Qu.:1.0000  \n",
       " Max.   :4.930   Max.   :5.424   Max.   :22.90   Max.   :1.0000  \n",
       "       am              gear            carb      \n",
       " Min.   :0.0000   Min.   :3.000   Min.   :1.000  \n",
       " 1st Qu.:0.0000   1st Qu.:3.000   1st Qu.:2.000  \n",
       " Median :0.0000   Median :4.000   Median :2.000  \n",
       " Mean   :0.4062   Mean   :3.688   Mean   :2.812  \n",
       " 3rd Qu.:1.0000   3rd Qu.:4.000   3rd Qu.:4.000  \n",
       " Max.   :1.0000   Max.   :5.000   Max.   :8.000  "
      ]
     },
     "metadata": {},
     "output_type": "display_data"
    }
   ],
   "source": [
    "summary(mtcars)"
   ]
  },
  {
   "cell_type": "code",
   "execution_count": 4,
   "metadata": {
    "ExecuteTime": {
     "end_time": "2020-09-22T06:31:24.935017Z",
     "start_time": "2020-09-22T06:31:24.913Z"
    }
   },
   "outputs": [
    {
     "data": {
      "text/html": [
       "<style>\n",
       ".dl-inline {width: auto; margin:0; padding: 0}\n",
       ".dl-inline>dt, .dl-inline>dd {float: none; width: auto; display: inline-block}\n",
       ".dl-inline>dt::after {content: \":\\0020\"; padding-right: .5ex}\n",
       ".dl-inline>dt:not(:first-of-type) {padding-left: .5ex}\n",
       "</style><dl class=dl-inline><dt>Mazda RX4</dt><dd>328.98</dd><dt>Mazda RX4 Wag</dt><dd>329.795</dd><dt>Datsun 710</dt><dd>259.58</dd><dt>Hornet 4 Drive</dt><dd>426.135</dd><dt>Hornet Sportabout</dt><dd>590.31</dd><dt>Valiant</dt><dd>385.54</dd><dt>Duster 360</dt><dd>656.92</dd><dt>Merc 240D</dt><dd>270.98</dd><dt>Merc 230</dt><dd>299.57</dd><dt>Merc 280</dt><dd>350.46</dd><dt>Merc 280C</dt><dd>349.66</dd><dt>Merc 450SE</dt><dd>510.74</dd><dt>Merc 450SL</dt><dd>511.5</dd><dt>Merc 450SLC</dt><dd>509.85</dd><dt>Cadillac Fleetwood</dt><dd>728.56</dd><dt>Lincoln Continental</dt><dd>726.644</dd><dt>Chrysler Imperial</dt><dd>725.695</dd><dt>Fiat 128</dt><dd>213.85</dd><dt>Honda Civic</dt><dd>195.165</dd><dt>Toyota Corolla</dt><dd>206.955</dd><dt>Toyota Corona</dt><dd>273.775</dd><dt>Dodge Challenger</dt><dd>519.65</dd><dt>AMC Javelin</dt><dd>506.085</dd><dt>Camaro Z28</dt><dd>646.28</dd><dt>Pontiac Firebird</dt><dd>631.175</dd><dt>Fiat X1-9</dt><dd>208.215</dd><dt>Porsche 914-2</dt><dd>272.57</dd><dt>Lotus Europa</dt><dd>273.683</dd><dt>Ford Pantera L</dt><dd>670.69</dd><dt>Ferrari Dino</dt><dd>379.59</dd><dt>Maserati Bora</dt><dd>694.71</dd><dt>Volvo 142E</dt><dd>288.89</dd></dl>\n"
      ],
      "text/latex": [
       "\\begin{description*}\n",
       "\\item[Mazda RX4] 328.98\n",
       "\\item[Mazda RX4 Wag] 329.795\n",
       "\\item[Datsun 710] 259.58\n",
       "\\item[Hornet 4 Drive] 426.135\n",
       "\\item[Hornet Sportabout] 590.31\n",
       "\\item[Valiant] 385.54\n",
       "\\item[Duster 360] 656.92\n",
       "\\item[Merc 240D] 270.98\n",
       "\\item[Merc 230] 299.57\n",
       "\\item[Merc 280] 350.46\n",
       "\\item[Merc 280C] 349.66\n",
       "\\item[Merc 450SE] 510.74\n",
       "\\item[Merc 450SL] 511.5\n",
       "\\item[Merc 450SLC] 509.85\n",
       "\\item[Cadillac Fleetwood] 728.56\n",
       "\\item[Lincoln Continental] 726.644\n",
       "\\item[Chrysler Imperial] 725.695\n",
       "\\item[Fiat 128] 213.85\n",
       "\\item[Honda Civic] 195.165\n",
       "\\item[Toyota Corolla] 206.955\n",
       "\\item[Toyota Corona] 273.775\n",
       "\\item[Dodge Challenger] 519.65\n",
       "\\item[AMC Javelin] 506.085\n",
       "\\item[Camaro Z28] 646.28\n",
       "\\item[Pontiac Firebird] 631.175\n",
       "\\item[Fiat X1-9] 208.215\n",
       "\\item[Porsche 914-2] 272.57\n",
       "\\item[Lotus Europa] 273.683\n",
       "\\item[Ford Pantera L] 670.69\n",
       "\\item[Ferrari Dino] 379.59\n",
       "\\item[Maserati Bora] 694.71\n",
       "\\item[Volvo 142E] 288.89\n",
       "\\end{description*}\n"
      ],
      "text/markdown": [
       "Mazda RX4\n",
       ":   328.98Mazda RX4 Wag\n",
       ":   329.795Datsun 710\n",
       ":   259.58Hornet 4 Drive\n",
       ":   426.135Hornet Sportabout\n",
       ":   590.31Valiant\n",
       ":   385.54Duster 360\n",
       ":   656.92Merc 240D\n",
       ":   270.98Merc 230\n",
       ":   299.57Merc 280\n",
       ":   350.46Merc 280C\n",
       ":   349.66Merc 450SE\n",
       ":   510.74Merc 450SL\n",
       ":   511.5Merc 450SLC\n",
       ":   509.85Cadillac Fleetwood\n",
       ":   728.56Lincoln Continental\n",
       ":   726.644Chrysler Imperial\n",
       ":   725.695Fiat 128\n",
       ":   213.85Honda Civic\n",
       ":   195.165Toyota Corolla\n",
       ":   206.955Toyota Corona\n",
       ":   273.775Dodge Challenger\n",
       ":   519.65AMC Javelin\n",
       ":   506.085Camaro Z28\n",
       ":   646.28Pontiac Firebird\n",
       ":   631.175Fiat X1-9\n",
       ":   208.215Porsche 914-2\n",
       ":   272.57Lotus Europa\n",
       ":   273.683Ford Pantera L\n",
       ":   670.69Ferrari Dino\n",
       ":   379.59Maserati Bora\n",
       ":   694.71Volvo 142E\n",
       ":   288.89\n",
       "\n"
      ],
      "text/plain": [
       "          Mazda RX4       Mazda RX4 Wag          Datsun 710      Hornet 4 Drive \n",
       "            328.980             329.795             259.580             426.135 \n",
       "  Hornet Sportabout             Valiant          Duster 360           Merc 240D \n",
       "            590.310             385.540             656.920             270.980 \n",
       "           Merc 230            Merc 280           Merc 280C          Merc 450SE \n",
       "            299.570             350.460             349.660             510.740 \n",
       "         Merc 450SL         Merc 450SLC  Cadillac Fleetwood Lincoln Continental \n",
       "            511.500             509.850             728.560             726.644 \n",
       "  Chrysler Imperial            Fiat 128         Honda Civic      Toyota Corolla \n",
       "            725.695             213.850             195.165             206.955 \n",
       "      Toyota Corona    Dodge Challenger         AMC Javelin          Camaro Z28 \n",
       "            273.775             519.650             506.085             646.280 \n",
       "   Pontiac Firebird           Fiat X1-9       Porsche 914-2        Lotus Europa \n",
       "            631.175             208.215             272.570             273.683 \n",
       "     Ford Pantera L        Ferrari Dino       Maserati Bora          Volvo 142E \n",
       "            670.690             379.590             694.710             288.890 "
      ]
     },
     "metadata": {},
     "output_type": "display_data"
    }
   ],
   "source": [
    "rowSums(mtcars)"
   ]
  },
  {
   "cell_type": "code",
   "execution_count": 5,
   "metadata": {
    "ExecuteTime": {
     "end_time": "2020-09-22T06:31:39.271416Z",
     "start_time": "2020-09-22T06:31:39.243Z"
    }
   },
   "outputs": [
    {
     "data": {
      "text/html": [
       "<style>\n",
       ".dl-inline {width: auto; margin:0; padding: 0}\n",
       ".dl-inline>dt, .dl-inline>dd {float: none; width: auto; display: inline-block}\n",
       ".dl-inline>dt::after {content: \":\\0020\"; padding-right: .5ex}\n",
       ".dl-inline>dt:not(:first-of-type) {padding-left: .5ex}\n",
       "</style><dl class=dl-inline><dt>mpg</dt><dd>642.9</dd><dt>cyl</dt><dd>198</dd><dt>disp</dt><dd>7383.1</dd><dt>hp</dt><dd>4694</dd><dt>drat</dt><dd>115.09</dd><dt>wt</dt><dd>102.952</dd><dt>qsec</dt><dd>571.16</dd><dt>vs</dt><dd>14</dd><dt>am</dt><dd>13</dd><dt>gear</dt><dd>118</dd><dt>carb</dt><dd>90</dd></dl>\n"
      ],
      "text/latex": [
       "\\begin{description*}\n",
       "\\item[mpg] 642.9\n",
       "\\item[cyl] 198\n",
       "\\item[disp] 7383.1\n",
       "\\item[hp] 4694\n",
       "\\item[drat] 115.09\n",
       "\\item[wt] 102.952\n",
       "\\item[qsec] 571.16\n",
       "\\item[vs] 14\n",
       "\\item[am] 13\n",
       "\\item[gear] 118\n",
       "\\item[carb] 90\n",
       "\\end{description*}\n"
      ],
      "text/markdown": [
       "mpg\n",
       ":   642.9cyl\n",
       ":   198disp\n",
       ":   7383.1hp\n",
       ":   4694drat\n",
       ":   115.09wt\n",
       ":   102.952qsec\n",
       ":   571.16vs\n",
       ":   14am\n",
       ":   13gear\n",
       ":   118carb\n",
       ":   90\n",
       "\n"
      ],
      "text/plain": [
       "     mpg      cyl     disp       hp     drat       wt     qsec       vs \n",
       " 642.900  198.000 7383.100 4694.000  115.090  102.952  571.160   14.000 \n",
       "      am     gear     carb \n",
       "  13.000  118.000   90.000 "
      ]
     },
     "metadata": {},
     "output_type": "display_data"
    }
   ],
   "source": [
    "colSums(mtcars)"
   ]
  },
  {
   "cell_type": "code",
   "execution_count": 7,
   "metadata": {
    "ExecuteTime": {
     "end_time": "2020-09-22T06:32:26.743750Z",
     "start_time": "2020-09-22T06:32:26.718Z"
    }
   },
   "outputs": [
    {
     "data": {
      "text/html": [
       "<style>\n",
       ".dl-inline {width: auto; margin:0; padding: 0}\n",
       ".dl-inline>dt, .dl-inline>dd {float: none; width: auto; display: inline-block}\n",
       ".dl-inline>dt::after {content: \":\\0020\"; padding-right: .5ex}\n",
       ".dl-inline>dt:not(:first-of-type) {padding-left: .5ex}\n",
       "</style><dl class=dl-inline><dt>Mazda RX4</dt><dd>29.9072727272727</dd><dt>Mazda RX4 Wag</dt><dd>29.9813636363636</dd><dt>Datsun 710</dt><dd>23.5981818181818</dd><dt>Hornet 4 Drive</dt><dd>38.7395454545455</dd><dt>Hornet Sportabout</dt><dd>53.6645454545455</dd><dt>Valiant</dt><dd>35.0490909090909</dd><dt>Duster 360</dt><dd>59.72</dd><dt>Merc 240D</dt><dd>24.6345454545455</dd><dt>Merc 230</dt><dd>27.2336363636364</dd><dt>Merc 280</dt><dd>31.86</dd><dt>Merc 280C</dt><dd>31.7872727272727</dd><dt>Merc 450SE</dt><dd>46.4309090909091</dd><dt>Merc 450SL</dt><dd>46.5</dd><dt>Merc 450SLC</dt><dd>46.35</dd><dt>Cadillac Fleetwood</dt><dd>66.2327272727273</dd><dt>Lincoln Continental</dt><dd>66.0585454545455</dd><dt>Chrysler Imperial</dt><dd>65.9722727272727</dd><dt>Fiat 128</dt><dd>19.4409090909091</dd><dt>Honda Civic</dt><dd>17.7422727272727</dd><dt>Toyota Corolla</dt><dd>18.8140909090909</dd><dt>Toyota Corona</dt><dd>24.8886363636364</dd><dt>Dodge Challenger</dt><dd>47.2409090909091</dd><dt>AMC Javelin</dt><dd>46.0077272727273</dd><dt>Camaro Z28</dt><dd>58.7527272727273</dd><dt>Pontiac Firebird</dt><dd>57.3795454545455</dd><dt>Fiat X1-9</dt><dd>18.9286363636364</dd><dt>Porsche 914-2</dt><dd>24.7790909090909</dd><dt>Lotus Europa</dt><dd>24.8802727272727</dd><dt>Ford Pantera L</dt><dd>60.9718181818182</dd><dt>Ferrari Dino</dt><dd>34.5081818181818</dd><dt>Maserati Bora</dt><dd>63.1554545454545</dd><dt>Volvo 142E</dt><dd>26.2627272727273</dd></dl>\n"
      ],
      "text/latex": [
       "\\begin{description*}\n",
       "\\item[Mazda RX4] 29.9072727272727\n",
       "\\item[Mazda RX4 Wag] 29.9813636363636\n",
       "\\item[Datsun 710] 23.5981818181818\n",
       "\\item[Hornet 4 Drive] 38.7395454545455\n",
       "\\item[Hornet Sportabout] 53.6645454545455\n",
       "\\item[Valiant] 35.0490909090909\n",
       "\\item[Duster 360] 59.72\n",
       "\\item[Merc 240D] 24.6345454545455\n",
       "\\item[Merc 230] 27.2336363636364\n",
       "\\item[Merc 280] 31.86\n",
       "\\item[Merc 280C] 31.7872727272727\n",
       "\\item[Merc 450SE] 46.4309090909091\n",
       "\\item[Merc 450SL] 46.5\n",
       "\\item[Merc 450SLC] 46.35\n",
       "\\item[Cadillac Fleetwood] 66.2327272727273\n",
       "\\item[Lincoln Continental] 66.0585454545455\n",
       "\\item[Chrysler Imperial] 65.9722727272727\n",
       "\\item[Fiat 128] 19.4409090909091\n",
       "\\item[Honda Civic] 17.7422727272727\n",
       "\\item[Toyota Corolla] 18.8140909090909\n",
       "\\item[Toyota Corona] 24.8886363636364\n",
       "\\item[Dodge Challenger] 47.2409090909091\n",
       "\\item[AMC Javelin] 46.0077272727273\n",
       "\\item[Camaro Z28] 58.7527272727273\n",
       "\\item[Pontiac Firebird] 57.3795454545455\n",
       "\\item[Fiat X1-9] 18.9286363636364\n",
       "\\item[Porsche 914-2] 24.7790909090909\n",
       "\\item[Lotus Europa] 24.8802727272727\n",
       "\\item[Ford Pantera L] 60.9718181818182\n",
       "\\item[Ferrari Dino] 34.5081818181818\n",
       "\\item[Maserati Bora] 63.1554545454545\n",
       "\\item[Volvo 142E] 26.2627272727273\n",
       "\\end{description*}\n"
      ],
      "text/markdown": [
       "Mazda RX4\n",
       ":   29.9072727272727Mazda RX4 Wag\n",
       ":   29.9813636363636Datsun 710\n",
       ":   23.5981818181818Hornet 4 Drive\n",
       ":   38.7395454545455Hornet Sportabout\n",
       ":   53.6645454545455Valiant\n",
       ":   35.0490909090909Duster 360\n",
       ":   59.72Merc 240D\n",
       ":   24.6345454545455Merc 230\n",
       ":   27.2336363636364Merc 280\n",
       ":   31.86Merc 280C\n",
       ":   31.7872727272727Merc 450SE\n",
       ":   46.4309090909091Merc 450SL\n",
       ":   46.5Merc 450SLC\n",
       ":   46.35Cadillac Fleetwood\n",
       ":   66.2327272727273Lincoln Continental\n",
       ":   66.0585454545455Chrysler Imperial\n",
       ":   65.9722727272727Fiat 128\n",
       ":   19.4409090909091Honda Civic\n",
       ":   17.7422727272727Toyota Corolla\n",
       ":   18.8140909090909Toyota Corona\n",
       ":   24.8886363636364Dodge Challenger\n",
       ":   47.2409090909091AMC Javelin\n",
       ":   46.0077272727273Camaro Z28\n",
       ":   58.7527272727273Pontiac Firebird\n",
       ":   57.3795454545455Fiat X1-9\n",
       ":   18.9286363636364Porsche 914-2\n",
       ":   24.7790909090909Lotus Europa\n",
       ":   24.8802727272727Ford Pantera L\n",
       ":   60.9718181818182Ferrari Dino\n",
       ":   34.5081818181818Maserati Bora\n",
       ":   63.1554545454545Volvo 142E\n",
       ":   26.2627272727273\n",
       "\n"
      ],
      "text/plain": [
       "          Mazda RX4       Mazda RX4 Wag          Datsun 710      Hornet 4 Drive \n",
       "           29.90727            29.98136            23.59818            38.73955 \n",
       "  Hornet Sportabout             Valiant          Duster 360           Merc 240D \n",
       "           53.66455            35.04909            59.72000            24.63455 \n",
       "           Merc 230            Merc 280           Merc 280C          Merc 450SE \n",
       "           27.23364            31.86000            31.78727            46.43091 \n",
       "         Merc 450SL         Merc 450SLC  Cadillac Fleetwood Lincoln Continental \n",
       "           46.50000            46.35000            66.23273            66.05855 \n",
       "  Chrysler Imperial            Fiat 128         Honda Civic      Toyota Corolla \n",
       "           65.97227            19.44091            17.74227            18.81409 \n",
       "      Toyota Corona    Dodge Challenger         AMC Javelin          Camaro Z28 \n",
       "           24.88864            47.24091            46.00773            58.75273 \n",
       "   Pontiac Firebird           Fiat X1-9       Porsche 914-2        Lotus Europa \n",
       "           57.37955            18.92864            24.77909            24.88027 \n",
       "     Ford Pantera L        Ferrari Dino       Maserati Bora          Volvo 142E \n",
       "           60.97182            34.50818            63.15545            26.26273 "
      ]
     },
     "metadata": {},
     "output_type": "display_data"
    }
   ],
   "source": [
    "apply(mtcars,1,mean)"
   ]
  },
  {
   "cell_type": "code",
   "execution_count": 8,
   "metadata": {
    "ExecuteTime": {
     "end_time": "2020-09-22T06:36:07.701654Z",
     "start_time": "2020-09-22T06:36:06.911Z"
    }
   },
   "outputs": [],
   "source": [
    "?apply"
   ]
  },
  {
   "cell_type": "markdown",
   "metadata": {},
   "source": [
    "## Dates"
   ]
  },
  {
   "cell_type": "code",
   "execution_count": 53,
   "metadata": {
    "ExecuteTime": {
     "end_time": "2020-09-08T07:23:47.730489Z",
     "start_time": "2020-09-08T07:23:47.707Z"
    },
    "scrolled": true
   },
   "outputs": [
    {
     "data": {
      "text/plain": [
       "Time differences in days\n",
       "[1] -4162 -1113   331 -5173"
      ]
     },
     "metadata": {},
     "output_type": "display_data"
    }
   ],
   "source": [
    "husbands = as.Date(c(\"1973-06-21\", \"1970-07-16\", \"1949-10-08\", \"1969-05-24\"))\n",
    "wifes = as.Date(c(\"1984-11-12\", \"1973-08-02\", \"1948-11-11\", \"1983-07-23\"))\n",
    "agegap = husbands - wifes\n",
    "agegap"
   ]
  },
  {
   "cell_type": "markdown",
   "metadata": {},
   "source": [
    "## apply()"
   ]
  },
  {
   "cell_type": "code",
   "execution_count": 86,
   "metadata": {
    "ExecuteTime": {
     "end_time": "2020-09-22T07:38:41.484938Z",
     "start_time": "2020-09-22T07:38:41.474Z"
    }
   },
   "outputs": [],
   "source": [
    "# ?apply()"
   ]
  },
  {
   "cell_type": "code",
   "execution_count": 83,
   "metadata": {
    "ExecuteTime": {
     "end_time": "2020-09-22T07:32:35.987490Z",
     "start_time": "2020-09-22T07:32:35.634Z"
    }
   },
   "outputs": [
    {
     "data": {
      "text/html": [
       "<table>\n",
       "<caption>A matrix: 8 × 2 of type dbl</caption>\n",
       "<thead>\n",
       "\t<tr><th scope=col>x1</th><th scope=col>x2</th></tr>\n",
       "</thead>\n",
       "<tbody>\n",
       "\t<tr><td>3</td><td>4</td></tr>\n",
       "\t<tr><td>3</td><td>3</td></tr>\n",
       "\t<tr><td>3</td><td>2</td></tr>\n",
       "\t<tr><td>3</td><td>1</td></tr>\n",
       "\t<tr><td>3</td><td>2</td></tr>\n",
       "\t<tr><td>3</td><td>3</td></tr>\n",
       "\t<tr><td>3</td><td>4</td></tr>\n",
       "\t<tr><td>3</td><td>5</td></tr>\n",
       "</tbody>\n",
       "</table>\n"
      ],
      "text/latex": [
       "A matrix: 8 × 2 of type dbl\n",
       "\\begin{tabular}{ll}\n",
       " x1 & x2\\\\\n",
       "\\hline\n",
       "\t 3 & 4\\\\\n",
       "\t 3 & 3\\\\\n",
       "\t 3 & 2\\\\\n",
       "\t 3 & 1\\\\\n",
       "\t 3 & 2\\\\\n",
       "\t 3 & 3\\\\\n",
       "\t 3 & 4\\\\\n",
       "\t 3 & 5\\\\\n",
       "\\end{tabular}\n"
      ],
      "text/markdown": [
       "\n",
       "A matrix: 8 × 2 of type dbl\n",
       "\n",
       "| x1 | x2 |\n",
       "|---|---|\n",
       "| 3 | 4 |\n",
       "| 3 | 3 |\n",
       "| 3 | 2 |\n",
       "| 3 | 1 |\n",
       "| 3 | 2 |\n",
       "| 3 | 3 |\n",
       "| 3 | 4 |\n",
       "| 3 | 5 |\n",
       "\n"
      ],
      "text/plain": [
       "     x1 x2\n",
       "[1,] 3  4 \n",
       "[2,] 3  3 \n",
       "[3,] 3  2 \n",
       "[4,] 3  1 \n",
       "[5,] 3  2 \n",
       "[6,] 3  3 \n",
       "[7,] 3  4 \n",
       "[8,] 3  5 "
      ]
     },
     "metadata": {},
     "output_type": "display_data"
    }
   ],
   "source": [
    "x = cbind(x1=3, x2=c(4:1, 2:5))\n",
    "x"
   ]
  },
  {
   "cell_type": "code",
   "execution_count": 84,
   "metadata": {
    "ExecuteTime": {
     "end_time": "2020-09-22T07:37:48.983896Z",
     "start_time": "2020-09-22T07:37:48.964Z"
    },
    "scrolled": true
   },
   "outputs": [
    {
     "data": {
      "text/html": [
       "<style>\n",
       ".dl-inline {width: auto; margin:0; padding: 0}\n",
       ".dl-inline>dt, .dl-inline>dd {float: none; width: auto; display: inline-block}\n",
       ".dl-inline>dt::after {content: \":\\0020\"; padding-right: .5ex}\n",
       ".dl-inline>dt:not(:first-of-type) {padding-left: .5ex}\n",
       "</style><dl class=dl-inline><dt>x1</dt><dd>3</dd><dt>x2</dt><dd>3</dd></dl>\n"
      ],
      "text/latex": [
       "\\begin{description*}\n",
       "\\item[x1] 3\n",
       "\\item[x2] 3\n",
       "\\end{description*}\n"
      ],
      "text/markdown": [
       "x1\n",
       ":   3x2\n",
       ":   3\n",
       "\n"
      ],
      "text/plain": [
       "x1 x2 \n",
       " 3  3 "
      ]
     },
     "metadata": {},
     "output_type": "display_data"
    }
   ],
   "source": [
    "apply(x,2,mean)"
   ]
  },
  {
   "cell_type": "code",
   "execution_count": 85,
   "metadata": {
    "ExecuteTime": {
     "end_time": "2020-09-22T07:38:19.258767Z",
     "start_time": "2020-09-22T07:38:19.237Z"
    }
   },
   "outputs": [
    {
     "data": {
      "text/html": [
       "<style>\n",
       ".list-inline {list-style: none; margin:0; padding: 0}\n",
       ".list-inline>li {display: inline-block}\n",
       ".list-inline>li:not(:last-child)::after {content: \"\\00b7\"; padding: 0 .5ex}\n",
       "</style>\n",
       "<ol class=list-inline><li>3.5</li><li>3</li><li>2.5</li><li>2</li><li>2.5</li><li>3</li><li>3.5</li><li>4</li></ol>\n"
      ],
      "text/latex": [
       "\\begin{enumerate*}\n",
       "\\item 3.5\n",
       "\\item 3\n",
       "\\item 2.5\n",
       "\\item 2\n",
       "\\item 2.5\n",
       "\\item 3\n",
       "\\item 3.5\n",
       "\\item 4\n",
       "\\end{enumerate*}\n"
      ],
      "text/markdown": [
       "1. 3.5\n",
       "2. 3\n",
       "3. 2.5\n",
       "4. 2\n",
       "5. 2.5\n",
       "6. 3\n",
       "7. 3.5\n",
       "8. 4\n",
       "\n",
       "\n"
      ],
      "text/plain": [
       "[1] 3.5 3.0 2.5 2.0 2.5 3.0 3.5 4.0"
      ]
     },
     "metadata": {},
     "output_type": "display_data"
    }
   ],
   "source": [
    "apply(x,1,mean)"
   ]
  },
  {
   "cell_type": "code",
   "execution_count": 87,
   "metadata": {
    "ExecuteTime": {
     "end_time": "2020-09-22T07:39:23.060050Z",
     "start_time": "2020-09-22T07:39:22.912Z"
    }
   },
   "outputs": [],
   "source": [
    "?lapply()"
   ]
  },
  {
   "cell_type": "code",
   "execution_count": 94,
   "metadata": {
    "ExecuteTime": {
     "end_time": "2020-09-22T07:47:25.852609Z",
     "start_time": "2020-09-22T07:47:25.832Z"
    }
   },
   "outputs": [
    {
     "data": {
      "text/html": [
       "<ol>\n",
       "\t<li>1.73205080756888</li>\n",
       "\t<li>1.73205080756888</li>\n",
       "\t<li>1.73205080756888</li>\n",
       "\t<li>1.73205080756888</li>\n",
       "\t<li>1.73205080756888</li>\n",
       "\t<li>1.73205080756888</li>\n",
       "\t<li>1.73205080756888</li>\n",
       "\t<li>1.73205080756888</li>\n",
       "\t<li>2</li>\n",
       "\t<li>1.73205080756888</li>\n",
       "\t<li>1.4142135623731</li>\n",
       "\t<li>1</li>\n",
       "\t<li>1.4142135623731</li>\n",
       "\t<li>1.73205080756888</li>\n",
       "\t<li>2</li>\n",
       "\t<li>2.23606797749979</li>\n",
       "</ol>\n"
      ],
      "text/latex": [
       "\\begin{enumerate}\n",
       "\\item 1.73205080756888\n",
       "\\item 1.73205080756888\n",
       "\\item 1.73205080756888\n",
       "\\item 1.73205080756888\n",
       "\\item 1.73205080756888\n",
       "\\item 1.73205080756888\n",
       "\\item 1.73205080756888\n",
       "\\item 1.73205080756888\n",
       "\\item 2\n",
       "\\item 1.73205080756888\n",
       "\\item 1.4142135623731\n",
       "\\item 1\n",
       "\\item 1.4142135623731\n",
       "\\item 1.73205080756888\n",
       "\\item 2\n",
       "\\item 2.23606797749979\n",
       "\\end{enumerate}\n"
      ],
      "text/markdown": [
       "1. 1.73205080756888\n",
       "2. 1.73205080756888\n",
       "3. 1.73205080756888\n",
       "4. 1.73205080756888\n",
       "5. 1.73205080756888\n",
       "6. 1.73205080756888\n",
       "7. 1.73205080756888\n",
       "8. 1.73205080756888\n",
       "9. 2\n",
       "10. 1.73205080756888\n",
       "11. 1.4142135623731\n",
       "12. 1\n",
       "13. 1.4142135623731\n",
       "14. 1.73205080756888\n",
       "15. 2\n",
       "16. 2.23606797749979\n",
       "\n",
       "\n"
      ],
      "text/plain": [
       "[[1]]\n",
       "[1] 1.732051\n",
       "\n",
       "[[2]]\n",
       "[1] 1.732051\n",
       "\n",
       "[[3]]\n",
       "[1] 1.732051\n",
       "\n",
       "[[4]]\n",
       "[1] 1.732051\n",
       "\n",
       "[[5]]\n",
       "[1] 1.732051\n",
       "\n",
       "[[6]]\n",
       "[1] 1.732051\n",
       "\n",
       "[[7]]\n",
       "[1] 1.732051\n",
       "\n",
       "[[8]]\n",
       "[1] 1.732051\n",
       "\n",
       "[[9]]\n",
       "[1] 2\n",
       "\n",
       "[[10]]\n",
       "[1] 1.732051\n",
       "\n",
       "[[11]]\n",
       "[1] 1.414214\n",
       "\n",
       "[[12]]\n",
       "[1] 1\n",
       "\n",
       "[[13]]\n",
       "[1] 1.414214\n",
       "\n",
       "[[14]]\n",
       "[1] 1.732051\n",
       "\n",
       "[[15]]\n",
       "[1] 2\n",
       "\n",
       "[[16]]\n",
       "[1] 2.236068\n"
      ]
     },
     "metadata": {},
     "output_type": "display_data"
    }
   ],
   "source": [
    "lapply(x,sqrt)"
   ]
  },
  {
   "cell_type": "code",
   "execution_count": 95,
   "metadata": {
    "ExecuteTime": {
     "end_time": "2020-09-22T07:47:41.542194Z",
     "start_time": "2020-09-22T07:47:41.450Z"
    }
   },
   "outputs": [],
   "source": [
    "?rapply()"
   ]
  },
  {
   "cell_type": "code",
   "execution_count": 21,
   "metadata": {
    "ExecuteTime": {
     "end_time": "2020-09-22T06:40:56.886960Z",
     "start_time": "2020-09-22T06:40:56.798Z"
    }
   },
   "outputs": [],
   "source": [
    "?mode()"
   ]
  },
  {
   "cell_type": "code",
   "execution_count": 22,
   "metadata": {
    "ExecuteTime": {
     "end_time": "2020-09-22T06:41:05.177016Z",
     "start_time": "2020-09-22T06:41:05.076Z"
    }
   },
   "outputs": [],
   "source": [
    "?class()"
   ]
  },
  {
   "cell_type": "markdown",
   "metadata": {},
   "source": [
    "## list"
   ]
  },
  {
   "cell_type": "code",
   "execution_count": 69,
   "metadata": {
    "ExecuteTime": {
     "end_time": "2020-09-22T06:53:48.346783Z",
     "start_time": "2020-09-22T06:53:48.330Z"
    },
    "scrolled": true
   },
   "outputs": [
    {
     "data": {
      "text/html": [
       "<ol>\n",
       "\t<li>1</li>\n",
       "\t<li>'123'</li>\n",
       "\t<li><style>\n",
       ".list-inline {list-style: none; margin:0; padding: 0}\n",
       ".list-inline>li {display: inline-block}\n",
       ".list-inline>li:not(:last-child)::after {content: \"\\00b7\"; padding: 0 .5ex}\n",
       "</style>\n",
       "<ol class=list-inline><li>1</li><li>2</li><li>3</li></ol>\n",
       "</li>\n",
       "</ol>\n"
      ],
      "text/latex": [
       "\\begin{enumerate}\n",
       "\\item 1\n",
       "\\item '123'\n",
       "\\item \\begin{enumerate*}\n",
       "\\item 1\n",
       "\\item 2\n",
       "\\item 3\n",
       "\\end{enumerate*}\n",
       "\n",
       "\\end{enumerate}\n"
      ],
      "text/markdown": [
       "1. 1\n",
       "2. '123'\n",
       "3. 1. 1\n",
       "2. 2\n",
       "3. 3\n",
       "\n",
       "\n",
       "\n",
       "\n",
       "\n"
      ],
      "text/plain": [
       "[[1]]\n",
       "[1] 1\n",
       "\n",
       "[[2]]\n",
       "[1] \"123\"\n",
       "\n",
       "[[3]]\n",
       "[1] 1 2 3\n"
      ]
     },
     "metadata": {},
     "output_type": "display_data"
    }
   ],
   "source": [
    "l = list(1,\"123\",c(1,2,3))\n",
    "l"
   ]
  },
  {
   "cell_type": "code",
   "execution_count": 75,
   "metadata": {
    "ExecuteTime": {
     "end_time": "2020-09-22T06:54:13.176046Z",
     "start_time": "2020-09-22T06:54:13.151Z"
    },
    "scrolled": true
   },
   "outputs": [
    {
     "data": {
      "text/html": [
       "<ol>\n",
       "\t<li><style>\n",
       ".list-inline {list-style: none; margin:0; padding: 0}\n",
       ".list-inline>li {display: inline-block}\n",
       ".list-inline>li:not(:last-child)::after {content: \"\\00b7\"; padding: 0 .5ex}\n",
       "</style>\n",
       "<ol class=list-inline><li>1</li><li>2</li><li>3</li></ol>\n",
       "</li>\n",
       "</ol>\n"
      ],
      "text/latex": [
       "\\begin{enumerate}\n",
       "\\item \\begin{enumerate*}\n",
       "\\item 1\n",
       "\\item 2\n",
       "\\item 3\n",
       "\\end{enumerate*}\n",
       "\n",
       "\\end{enumerate}\n"
      ],
      "text/markdown": [
       "1. 1. 1\n",
       "2. 2\n",
       "3. 3\n",
       "\n",
       "\n",
       "\n",
       "\n",
       "\n"
      ],
      "text/plain": [
       "[[1]]\n",
       "[1] 1 2 3\n"
      ]
     },
     "metadata": {},
     "output_type": "display_data"
    }
   ],
   "source": [
    "t = l[3]\n",
    "t"
   ]
  },
  {
   "cell_type": "code",
   "execution_count": 76,
   "metadata": {
    "ExecuteTime": {
     "end_time": "2020-09-22T06:54:14.145473Z",
     "start_time": "2020-09-22T06:54:14.125Z"
    },
    "scrolled": true
   },
   "outputs": [
    {
     "data": {
      "text/html": [
       "'list'"
      ],
      "text/latex": [
       "'list'"
      ],
      "text/markdown": [
       "'list'"
      ],
      "text/plain": [
       "[1] \"list\""
      ]
     },
     "metadata": {},
     "output_type": "display_data"
    }
   ],
   "source": [
    "mode(t)"
   ]
  },
  {
   "cell_type": "code",
   "execution_count": 77,
   "metadata": {
    "ExecuteTime": {
     "end_time": "2020-09-22T06:54:15.476697Z",
     "start_time": "2020-09-22T06:54:15.459Z"
    }
   },
   "outputs": [
    {
     "data": {
      "text/html": [
       "<style>\n",
       ".list-inline {list-style: none; margin:0; padding: 0}\n",
       ".list-inline>li {display: inline-block}\n",
       ".list-inline>li:not(:last-child)::after {content: \"\\00b7\"; padding: 0 .5ex}\n",
       "</style>\n",
       "<ol class=list-inline><li>1</li><li>2</li><li>3</li></ol>\n"
      ],
      "text/latex": [
       "\\begin{enumerate*}\n",
       "\\item 1\n",
       "\\item 2\n",
       "\\item 3\n",
       "\\end{enumerate*}\n"
      ],
      "text/markdown": [
       "1. 1\n",
       "2. 2\n",
       "3. 3\n",
       "\n",
       "\n"
      ],
      "text/plain": [
       "[1] 1 2 3"
      ]
     },
     "metadata": {},
     "output_type": "display_data"
    }
   ],
   "source": [
    "t = unlist(t)\n",
    "t"
   ]
  },
  {
   "cell_type": "code",
   "execution_count": 78,
   "metadata": {
    "ExecuteTime": {
     "end_time": "2020-09-22T06:54:16.850121Z",
     "start_time": "2020-09-22T06:54:16.830Z"
    },
    "scrolled": true
   },
   "outputs": [
    {
     "data": {
      "text/html": [
       "'numeric'"
      ],
      "text/latex": [
       "'numeric'"
      ],
      "text/markdown": [
       "'numeric'"
      ],
      "text/plain": [
       "[1] \"numeric\""
      ]
     },
     "metadata": {},
     "output_type": "display_data"
    }
   ],
   "source": [
    "mode(t)"
   ]
  },
  {
   "cell_type": "code",
   "execution_count": 79,
   "metadata": {
    "ExecuteTime": {
     "end_time": "2020-09-22T06:54:19.095856Z",
     "start_time": "2020-09-22T06:54:19.081Z"
    }
   },
   "outputs": [
    {
     "data": {
      "text/html": [
       "1"
      ],
      "text/latex": [
       "1"
      ],
      "text/markdown": [
       "1"
      ],
      "text/plain": [
       "[1] 1"
      ]
     },
     "metadata": {},
     "output_type": "display_data"
    }
   ],
   "source": [
    "t[1]"
   ]
  },
  {
   "cell_type": "code",
   "execution_count": 80,
   "metadata": {
    "ExecuteTime": {
     "end_time": "2020-09-22T06:54:27.643447Z",
     "start_time": "2020-09-22T06:54:27.617Z"
    },
    "scrolled": true
   },
   "outputs": [
    {
     "data": {
      "text/html": [
       "<style>\n",
       ".list-inline {list-style: none; margin:0; padding: 0}\n",
       ".list-inline>li {display: inline-block}\n",
       ".list-inline>li:not(:last-child)::after {content: \"\\00b7\"; padding: 0 .5ex}\n",
       "</style>\n",
       "<ol class=list-inline><li>1</li><li>2</li><li>3</li></ol>\n"
      ],
      "text/latex": [
       "\\begin{enumerate*}\n",
       "\\item 1\n",
       "\\item 2\n",
       "\\item 3\n",
       "\\end{enumerate*}\n"
      ],
      "text/markdown": [
       "1. 1\n",
       "2. 2\n",
       "3. 3\n",
       "\n",
       "\n"
      ],
      "text/plain": [
       "[1] 1 2 3"
      ]
     },
     "metadata": {},
     "output_type": "display_data"
    }
   ],
   "source": [
    "l[[3]]"
   ]
  },
  {
   "cell_type": "code",
   "execution_count": 81,
   "metadata": {
    "ExecuteTime": {
     "end_time": "2020-09-22T06:54:35.740106Z",
     "start_time": "2020-09-22T06:54:35.724Z"
    }
   },
   "outputs": [
    {
     "data": {
      "text/html": [
       "1"
      ],
      "text/latex": [
       "1"
      ],
      "text/markdown": [
       "1"
      ],
      "text/plain": [
       "[1] 1"
      ]
     },
     "metadata": {},
     "output_type": "display_data"
    }
   ],
   "source": [
    "l[[3]][1]"
   ]
  },
  {
   "cell_type": "code",
   "execution_count": 29,
   "metadata": {
    "ExecuteTime": {
     "end_time": "2020-09-22T06:45:54.458667Z",
     "start_time": "2020-09-22T06:45:54.442Z"
    }
   },
   "outputs": [
    {
     "data": {
      "text/html": [
       "<style>\n",
       ".list-inline {list-style: none; margin:0; padding: 0}\n",
       ".list-inline>li {display: inline-block}\n",
       ".list-inline>li:not(:last-child)::after {content: \"\\00b7\"; padding: 0 .5ex}\n",
       "</style>\n",
       "<ol class=list-inline><li>'1'</li><li>'123'</li></ol>\n"
      ],
      "text/latex": [
       "\\begin{enumerate*}\n",
       "\\item '1'\n",
       "\\item '123'\n",
       "\\end{enumerate*}\n"
      ],
      "text/markdown": [
       "1. '1'\n",
       "2. '123'\n",
       "\n",
       "\n"
      ],
      "text/plain": [
       "[1] \"1\"   \"123\""
      ]
     },
     "metadata": {},
     "output_type": "display_data"
    }
   ],
   "source": [
    "unlists = unlist(l)\n",
    "unlists"
   ]
  },
  {
   "cell_type": "code",
   "execution_count": 43,
   "metadata": {
    "ExecuteTime": {
     "end_time": "2020-09-22T06:47:14.609444Z",
     "start_time": "2020-09-22T06:47:14.518Z"
    }
   },
   "outputs": [],
   "source": [
    "?paste()"
   ]
  },
  {
   "cell_type": "code",
   "execution_count": 44,
   "metadata": {
    "ExecuteTime": {
     "end_time": "2020-09-22T06:47:29.106675Z",
     "start_time": "2020-09-22T06:47:28.911Z"
    }
   },
   "outputs": [],
   "source": [
    "?gsub()"
   ]
  },
  {
   "cell_type": "markdown",
   "metadata": {},
   "source": [
    "## TODO"
   ]
  },
  {
   "cell_type": "code",
   "execution_count": 2,
   "metadata": {
    "ExecuteTime": {
     "end_time": "2020-10-13T06:16:21.228279Z",
     "start_time": "2020-10-13T06:16:21.180Z"
    }
   },
   "outputs": [],
   "source": [
    "attach(Puromycin)"
   ]
  },
  {
   "cell_type": "code",
   "execution_count": 3,
   "metadata": {
    "ExecuteTime": {
     "end_time": "2020-10-13T06:16:35.725529Z",
     "start_time": "2020-10-13T06:16:35.691Z"
    }
   },
   "outputs": [
    {
     "data": {
      "text/html": [
       "<table>\n",
       "<caption>A data.frame: 6 × 3</caption>\n",
       "<thead>\n",
       "\t<tr><th></th><th scope=col>conc</th><th scope=col>rate</th><th scope=col>state</th></tr>\n",
       "\t<tr><th></th><th scope=col>&lt;dbl&gt;</th><th scope=col>&lt;dbl&gt;</th><th scope=col>&lt;fct&gt;</th></tr>\n",
       "</thead>\n",
       "<tbody>\n",
       "\t<tr><th scope=row>1</th><td>0.02</td><td> 76</td><td>treated</td></tr>\n",
       "\t<tr><th scope=row>2</th><td>0.02</td><td> 47</td><td>treated</td></tr>\n",
       "\t<tr><th scope=row>3</th><td>0.06</td><td> 97</td><td>treated</td></tr>\n",
       "\t<tr><th scope=row>4</th><td>0.06</td><td>107</td><td>treated</td></tr>\n",
       "\t<tr><th scope=row>5</th><td>0.11</td><td>123</td><td>treated</td></tr>\n",
       "\t<tr><th scope=row>6</th><td>0.11</td><td>139</td><td>treated</td></tr>\n",
       "</tbody>\n",
       "</table>\n"
      ],
      "text/latex": [
       "A data.frame: 6 × 3\n",
       "\\begin{tabular}{r|lll}\n",
       "  & conc & rate & state\\\\\n",
       "  & <dbl> & <dbl> & <fct>\\\\\n",
       "\\hline\n",
       "\t1 & 0.02 &  76 & treated\\\\\n",
       "\t2 & 0.02 &  47 & treated\\\\\n",
       "\t3 & 0.06 &  97 & treated\\\\\n",
       "\t4 & 0.06 & 107 & treated\\\\\n",
       "\t5 & 0.11 & 123 & treated\\\\\n",
       "\t6 & 0.11 & 139 & treated\\\\\n",
       "\\end{tabular}\n"
      ],
      "text/markdown": [
       "\n",
       "A data.frame: 6 × 3\n",
       "\n",
       "| <!--/--> | conc &lt;dbl&gt; | rate &lt;dbl&gt; | state &lt;fct&gt; |\n",
       "|---|---|---|---|\n",
       "| 1 | 0.02 |  76 | treated |\n",
       "| 2 | 0.02 |  47 | treated |\n",
       "| 3 | 0.06 |  97 | treated |\n",
       "| 4 | 0.06 | 107 | treated |\n",
       "| 5 | 0.11 | 123 | treated |\n",
       "| 6 | 0.11 | 139 | treated |\n",
       "\n"
      ],
      "text/plain": [
       "  conc rate state  \n",
       "1 0.02  76  treated\n",
       "2 0.02  47  treated\n",
       "3 0.06  97  treated\n",
       "4 0.06 107  treated\n",
       "5 0.11 123  treated\n",
       "6 0.11 139  treated"
      ]
     },
     "metadata": {},
     "output_type": "display_data"
    }
   ],
   "source": [
    "head(Puromycin)"
   ]
  },
  {
   "cell_type": "code",
   "execution_count": 11,
   "metadata": {
    "ExecuteTime": {
     "end_time": "2020-10-13T06:21:06.660381Z",
     "start_time": "2020-10-13T06:21:06.608Z"
    }
   },
   "outputs": [
    {
     "data": {
      "text/html": [
       "<table>\n",
       "<caption>A data.frame: 23 × 0</caption>\n",
       "<tbody>\n",
       "\t<tr><th scope=row>1</th></tr>\n",
       "\t<tr><th scope=row>2</th></tr>\n",
       "\t<tr><th scope=row>3</th></tr>\n",
       "\t<tr><th scope=row>4</th></tr>\n",
       "\t<tr><th scope=row>5</th></tr>\n",
       "\t<tr><th scope=row>6</th></tr>\n",
       "\t<tr><th scope=row>7</th></tr>\n",
       "\t<tr><th scope=row>8</th></tr>\n",
       "\t<tr><th scope=row>9</th></tr>\n",
       "\t<tr><th scope=row>10</th></tr>\n",
       "\t<tr><th scope=row>11</th></tr>\n",
       "\t<tr><th scope=row>12</th></tr>\n",
       "\t<tr><th scope=row>13</th></tr>\n",
       "\t<tr><th scope=row>14</th></tr>\n",
       "\t<tr><th scope=row>15</th></tr>\n",
       "\t<tr><th scope=row>16</th></tr>\n",
       "\t<tr><th scope=row>17</th></tr>\n",
       "\t<tr><th scope=row>18</th></tr>\n",
       "\t<tr><th scope=row>19</th></tr>\n",
       "\t<tr><th scope=row>20</th></tr>\n",
       "\t<tr><th scope=row>21</th></tr>\n",
       "\t<tr><th scope=row>22</th></tr>\n",
       "\t<tr><th scope=row>23</th></tr>\n",
       "</tbody>\n",
       "</table>\n"
      ],
      "text/latex": [
       "A data.frame: 23 × 0\n",
       "\\begin{tabular}{r|}\n",
       "\t1\\\\\n",
       "\t2\\\\\n",
       "\t3\\\\\n",
       "\t4\\\\\n",
       "\t5\\\\\n",
       "\t6\\\\\n",
       "\t7\\\\\n",
       "\t8\\\\\n",
       "\t9\\\\\n",
       "\t10\\\\\n",
       "\t11\\\\\n",
       "\t12\\\\\n",
       "\t13\\\\\n",
       "\t14\\\\\n",
       "\t15\\\\\n",
       "\t16\\\\\n",
       "\t17\\\\\n",
       "\t18\\\\\n",
       "\t19\\\\\n",
       "\t20\\\\\n",
       "\t21\\\\\n",
       "\t22\\\\\n",
       "\t23\\\\\n",
       "\\end{tabular}\n"
      ],
      "text/markdown": [
       "\n",
       "A data.frame: 23 × 0\n",
       "\n",
       "| 1 |\n",
       "| 2 |\n",
       "| 3 |\n",
       "| 4 |\n",
       "| 5 |\n",
       "| 6 |\n",
       "| 7 |\n",
       "| 8 |\n",
       "| 9 |\n",
       "| 10 |\n",
       "| 11 |\n",
       "| 12 |\n",
       "| 13 |\n",
       "| 14 |\n",
       "| 15 |\n",
       "| 16 |\n",
       "| 17 |\n",
       "| 18 |\n",
       "| 19 |\n",
       "| 20 |\n",
       "| 21 |\n",
       "| 22 |\n",
       "| 23 |\n",
       "\n"
      ],
      "text/plain": [
       "  \n",
       "1 \n",
       "2 \n",
       "3 \n",
       "4 \n",
       "5 \n",
       "6 \n",
       "7 \n",
       "8 \n",
       "9 \n",
       "10\n",
       "11\n",
       "12\n",
       "13\n",
       "14\n",
       "15\n",
       "16\n",
       "17\n",
       "18\n",
       "19\n",
       "20\n",
       "21\n",
       "22\n",
       "23"
      ]
     },
     "metadata": {},
     "output_type": "display_data"
    }
   ],
   "source": [
    "puroA = Puromycin[Puromycin$stated == 'treated']\n",
    "puroA"
   ]
  },
  {
   "cell_type": "code",
   "execution_count": 9,
   "metadata": {
    "ExecuteTime": {
     "end_time": "2020-10-13T06:19:48.304698Z",
     "start_time": "2020-10-13T06:19:48.273Z"
    },
    "scrolled": false
   },
   "outputs": [
    {
     "data": {
      "text/html": [
       "<table>\n",
       "<caption>A data.frame: 23 × 2</caption>\n",
       "<thead>\n",
       "\t<tr><th></th><th scope=col>rate</th><th scope=col>state</th></tr>\n",
       "\t<tr><th></th><th scope=col>&lt;dbl&gt;</th><th scope=col>&lt;fct&gt;</th></tr>\n",
       "</thead>\n",
       "<tbody>\n",
       "\t<tr><th scope=row>1</th><td> 76</td><td>treated  </td></tr>\n",
       "\t<tr><th scope=row>2</th><td> 47</td><td>treated  </td></tr>\n",
       "\t<tr><th scope=row>3</th><td> 97</td><td>treated  </td></tr>\n",
       "\t<tr><th scope=row>4</th><td>107</td><td>treated  </td></tr>\n",
       "\t<tr><th scope=row>5</th><td>123</td><td>treated  </td></tr>\n",
       "\t<tr><th scope=row>6</th><td>139</td><td>treated  </td></tr>\n",
       "\t<tr><th scope=row>7</th><td>159</td><td>treated  </td></tr>\n",
       "\t<tr><th scope=row>8</th><td>152</td><td>treated  </td></tr>\n",
       "\t<tr><th scope=row>9</th><td>191</td><td>treated  </td></tr>\n",
       "\t<tr><th scope=row>10</th><td>201</td><td>treated  </td></tr>\n",
       "\t<tr><th scope=row>11</th><td>207</td><td>treated  </td></tr>\n",
       "\t<tr><th scope=row>12</th><td>200</td><td>treated  </td></tr>\n",
       "\t<tr><th scope=row>13</th><td> 67</td><td>untreated</td></tr>\n",
       "\t<tr><th scope=row>14</th><td> 51</td><td>untreated</td></tr>\n",
       "\t<tr><th scope=row>15</th><td> 84</td><td>untreated</td></tr>\n",
       "\t<tr><th scope=row>16</th><td> 86</td><td>untreated</td></tr>\n",
       "\t<tr><th scope=row>17</th><td> 98</td><td>untreated</td></tr>\n",
       "\t<tr><th scope=row>18</th><td>115</td><td>untreated</td></tr>\n",
       "\t<tr><th scope=row>19</th><td>131</td><td>untreated</td></tr>\n",
       "\t<tr><th scope=row>20</th><td>124</td><td>untreated</td></tr>\n",
       "\t<tr><th scope=row>21</th><td>144</td><td>untreated</td></tr>\n",
       "\t<tr><th scope=row>22</th><td>158</td><td>untreated</td></tr>\n",
       "\t<tr><th scope=row>23</th><td>160</td><td>untreated</td></tr>\n",
       "</tbody>\n",
       "</table>\n"
      ],
      "text/latex": [
       "A data.frame: 23 × 2\n",
       "\\begin{tabular}{r|ll}\n",
       "  & rate & state\\\\\n",
       "  & <dbl> & <fct>\\\\\n",
       "\\hline\n",
       "\t1 &  76 & treated  \\\\\n",
       "\t2 &  47 & treated  \\\\\n",
       "\t3 &  97 & treated  \\\\\n",
       "\t4 & 107 & treated  \\\\\n",
       "\t5 & 123 & treated  \\\\\n",
       "\t6 & 139 & treated  \\\\\n",
       "\t7 & 159 & treated  \\\\\n",
       "\t8 & 152 & treated  \\\\\n",
       "\t9 & 191 & treated  \\\\\n",
       "\t10 & 201 & treated  \\\\\n",
       "\t11 & 207 & treated  \\\\\n",
       "\t12 & 200 & treated  \\\\\n",
       "\t13 &  67 & untreated\\\\\n",
       "\t14 &  51 & untreated\\\\\n",
       "\t15 &  84 & untreated\\\\\n",
       "\t16 &  86 & untreated\\\\\n",
       "\t17 &  98 & untreated\\\\\n",
       "\t18 & 115 & untreated\\\\\n",
       "\t19 & 131 & untreated\\\\\n",
       "\t20 & 124 & untreated\\\\\n",
       "\t21 & 144 & untreated\\\\\n",
       "\t22 & 158 & untreated\\\\\n",
       "\t23 & 160 & untreated\\\\\n",
       "\\end{tabular}\n"
      ],
      "text/markdown": [
       "\n",
       "A data.frame: 23 × 2\n",
       "\n",
       "| <!--/--> | rate &lt;dbl&gt; | state &lt;fct&gt; |\n",
       "|---|---|---|\n",
       "| 1 |  76 | treated   |\n",
       "| 2 |  47 | treated   |\n",
       "| 3 |  97 | treated   |\n",
       "| 4 | 107 | treated   |\n",
       "| 5 | 123 | treated   |\n",
       "| 6 | 139 | treated   |\n",
       "| 7 | 159 | treated   |\n",
       "| 8 | 152 | treated   |\n",
       "| 9 | 191 | treated   |\n",
       "| 10 | 201 | treated   |\n",
       "| 11 | 207 | treated   |\n",
       "| 12 | 200 | treated   |\n",
       "| 13 |  67 | untreated |\n",
       "| 14 |  51 | untreated |\n",
       "| 15 |  84 | untreated |\n",
       "| 16 |  86 | untreated |\n",
       "| 17 |  98 | untreated |\n",
       "| 18 | 115 | untreated |\n",
       "| 19 | 131 | untreated |\n",
       "| 20 | 124 | untreated |\n",
       "| 21 | 144 | untreated |\n",
       "| 22 | 158 | untreated |\n",
       "| 23 | 160 | untreated |\n",
       "\n"
      ],
      "text/plain": [
       "   rate state    \n",
       "1   76  treated  \n",
       "2   47  treated  \n",
       "3   97  treated  \n",
       "4  107  treated  \n",
       "5  123  treated  \n",
       "6  139  treated  \n",
       "7  159  treated  \n",
       "8  152  treated  \n",
       "9  191  treated  \n",
       "10 201  treated  \n",
       "11 207  treated  \n",
       "12 200  treated  \n",
       "13  67  untreated\n",
       "14  51  untreated\n",
       "15  84  untreated\n",
       "16  86  untreated\n",
       "17  98  untreated\n",
       "18 115  untreated\n",
       "19 131  untreated\n",
       "20 124  untreated\n",
       "21 144  untreated\n",
       "22 158  untreated\n",
       "23 160  untreated"
      ]
     },
     "metadata": {},
     "output_type": "display_data"
    }
   ],
   "source": [
    "Puromycin[,c(\"rate\",\"state\")]"
   ]
  },
  {
   "cell_type": "markdown",
   "metadata": {},
   "source": [
    "## plot"
   ]
  },
  {
   "cell_type": "code",
   "execution_count": 20,
   "metadata": {
    "ExecuteTime": {
     "end_time": "2020-10-13T06:23:41.981063Z",
     "start_time": "2020-10-13T06:23:41.897Z"
    }
   },
   "outputs": [
    {
     "data": {
      "image/png": "[encoded data removed]",
      "text/plain": [
       "plot without title"
      ]
     },
     "metadata": {
      "image/png": {
       "height": 420,
       "width": 420
      }
     },
     "output_type": "display_data"
    }
   ],
   "source": [
    "plot(rate ~ conc, data=puroA)\n",
    "abline(lm(rate ~ conc, data=puroA),col='red')\n",
    "abline(a=100,b=105,col='black')\n",
    "abline(h=200,col='red')\n",
    "abline(v=0.6, col='green')"
   ]
  },
  {
   "cell_type": "code",
   "execution_count": 28,
   "metadata": {
    "ExecuteTime": {
     "end_time": "2020-10-13T06:28:03.763495Z",
     "start_time": "2020-10-13T06:28:02.616Z"
    }
   },
   "outputs": [
    {
     "name": "stderr",
     "output_type": "stream",
     "text": [
      "Warning message in plot.window(...):\n",
      "“\"concl\" is not a graphical parameter”\n",
      "Warning message in plot.xy(xy, type, ...):\n",
      "“\"concl\" is not a graphical parameter”\n",
      "Warning message in axis(side = side, at = at, labels = labels, ...):\n",
      "“\"concl\" is not a graphical parameter”\n",
      "Warning message in axis(side = side, at = at, labels = labels, ...):\n",
      "“\"concl\" is not a graphical parameter”\n",
      "Warning message in box(...):\n",
      "“\"concl\" is not a graphical parameter”\n",
      "Warning message in title(...):\n",
      "“\"concl\" is not a graphical parameter”\n"
     ]
    },
    {
     "data": {
      "image/png": "[encoded data removed]",
      "text/plain": [
       "Plot with title “Puromycin”"
      ]
     },
     "metadata": {
      "image/png": {
       "height": 420,
       "width": 420
      }
     },
     "output_type": "display_data"
    }
   ],
   "source": [
    "par(mfrow=c(2,2)) \n",
    "plot(rate ~ conc,data=puroA,pch=2,concl=4,cex=2.5,\n",
    "     xlim=c(0,1.2), ylim=c(40,210),\n",
    "     ylab=\"Concentration\", xlab=\"Rate\",\n",
    "     cex.main=10)\n",
    "title(main=\"Puromycin\",cex.lab=1.2)"
   ]
  },
  {
   "cell_type": "markdown",
   "metadata": {},
   "source": [
    "## if-else"
   ]
  },
  {
   "cell_type": "code",
   "execution_count": 29,
   "metadata": {
    "ExecuteTime": {
     "end_time": "2020-10-13T06:29:50.230571Z",
     "start_time": "2020-10-13T06:29:46.443Z"
    }
   },
   "outputs": [
    {
     "data": {
      "text/html": [
       "25"
      ],
      "text/latex": [
       "25"
      ],
      "text/markdown": [
       "25"
      ],
      "text/plain": [
       "[1] 25"
      ]
     },
     "metadata": {},
     "output_type": "display_data"
    }
   ],
   "source": [
    "x = -5\n",
    "ifelse(x >= 0, sqrt(x), x*x)"
   ]
  },
  {
   "cell_type": "code",
   "execution_count": 30,
   "metadata": {
    "ExecuteTime": {
     "end_time": "2020-10-13T06:30:35.758550Z",
     "start_time": "2020-10-13T06:30:35.164Z"
    }
   },
   "outputs": [
    {
     "data": {
      "text/html": [
       "25"
      ],
      "text/latex": [
       "25"
      ],
      "text/markdown": [
       "25"
      ],
      "text/plain": [
       "[1] 25"
      ]
     },
     "metadata": {},
     "output_type": "display_data"
    }
   ],
   "source": [
    "if(x>=0){\n",
    "    sqrt(x)\n",
    "}else{\n",
    "    x*x\n",
    "}"
   ]
  },
  {
   "cell_type": "markdown",
   "metadata": {},
   "source": [
    "## while"
   ]
  },
  {
   "cell_type": "code",
   "execution_count": 31,
   "metadata": {
    "ExecuteTime": {
     "end_time": "2020-10-13T06:32:15.359838Z",
     "start_time": "2020-10-13T06:32:13.279Z"
    }
   },
   "outputs": [
    {
     "name": "stdout",
     "output_type": "stream",
     "text": [
      "[1] 1\n",
      "[1] 1 2\n",
      "[1] 1 2 3\n",
      "[1] 1 2 3 4\n",
      "[1] 1 2 3 4 5\n"
     ]
    }
   ],
   "source": [
    "for(i in 1:5)\n",
    "    print(1:i)"
   ]
  },
  {
   "cell_type": "code",
   "execution_count": null,
   "metadata": {},
   "outputs": [],
   "source": [
    "while(i<)"
   ]
  }
 ],
 "metadata": {
  "jupytext": {
   "formats": "ipynb,R:light,md"
  },
  "kernelspec": {
   "display_name": "R",
   "language": "R",
   "name": "ir"
  },
  "language_info": {
   "codemirror_mode": "r",
   "file_extension": ".r",
   "mimetype": "text/x-r-source",
   "name": "R",
   "pygments_lexer": "r",
   "version": "3.6.3"
  },
  "latex_envs": {
   "LaTeX_envs_menu_present": true,
   "autoclose": false,
   "autocomplete": true,
   "bibliofile": "biblio.bib",
   "cite_by": "apalike",
   "current_citInitial": 1,
   "eqLabelWithNumbers": true,
   "eqNumInitial": 1,
   "hotkeys": {
    "equation": "Ctrl-E",
    "itemize": "Ctrl-I"
   },
   "labels_anchors": false,
   "latex_user_defs": false,
   "report_style_numbering": false,
   "user_envs_cfg": false
  },
  "toc": {
   "base_numbering": 1,
   "nav_menu": {},
   "number_sections": true,
   "sideBar": true,
   "skip_h1_title": false,
   "title_cell": "Table of Contents",
   "title_sidebar": "Contents",
   "toc_cell": false,
   "toc_position": {},
   "toc_section_display": true,
   "toc_window_display": true
  },
  "varInspector": {
   "cols": {
    "lenName": 16,
    "lenType": 16,
    "lenVar": 40
   },
   "kernels_config": {
    "python": {
     "delete_cmd_postfix": "",
     "delete_cmd_prefix": "del ",
     "library": "var_list.py",
     "varRefreshCmd": "print(var_dic_list())"
    },
    "r": {
     "delete_cmd_postfix": ") ",
     "delete_cmd_prefix": "rm(",
     "library": "var_list.r",
     "varRefreshCmd": "cat(var_dic_list()) "
    }
   },
   "types_to_exclude": [
    "module",
    "function",
    "builtin_function_or_method",
    "instance",
    "_Feature"
   ],
   "window_display": false
  }
 },
 "nbformat": 4,
 "nbformat_minor": 2
}
